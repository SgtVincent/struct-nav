{
 "cells": [
  {
   "cell_type": "code",
   "execution_count": null,
   "metadata": {},
   "outputs": [],
   "source": [
    "!pip install -U sentence-transformers\n"
   ]
  },
  {
   "cell_type": "code",
   "execution_count": null,
   "metadata": {},
   "outputs": [],
   "source": [
    "from sentence_transformers import SentenceTransformer, util\n",
    "import numpy as np\n",
    "\n",
    "coco_categories = {\n",
    "    \"chair\": 0,\n",
    "    \"couch\": 1,\n",
    "    \"potted plant\": 2,\n",
    "    \"bed\": 3,\n",
    "    \"toilet\": 4,\n",
    "    \"tv\": 5,\n",
    "    \"dining-table\": 6,\n",
    "    \"oven\": 7,\n",
    "    \"sink\": 8,\n",
    "    \"refrigerator\": 9,\n",
    "    \"book\": 10,\n",
    "    \"clock\": 11,\n",
    "    \"vase\": 12,\n",
    "    \"cup\": 13,\n",
    "    \"bottle\": 14,\n",
    "}\n",
    "\n",
    "coco_label_mapping = {\n",
    "    0: 'chair',\n",
    "    1: 'couch',\n",
    "    2: 'potted plant',\n",
    "    3: 'bed',\n",
    "    4: 'toilet',\n",
    "    5: 'tv',\n",
    "    6: 'dining-table',\n",
    "    7: 'oven',\n",
    "    8: 'sink',\n",
    "    9: 'refrigerator',\n",
    "    10: 'book',\n",
    "    11: 'clock',\n",
    "    12: 'vase',\n",
    "    13: 'cup',\n",
    "    14: 'bottle'\n",
    "}\n",
    "\n",
    "model_zoo = {'bert': 'sentence-transformers/bert-base-nli-mean-tokens', 'clip': 'clip-ViT-L-14'}\n",
    "\n",
    "class DistMatrix:\n",
    "    def __init__(self, class_dict, mode='bert'):\n",
    "        self.categories = [{\n",
    "        'class_name': k,\n",
    "        'class_label': v,} \n",
    "        for k, v in class_dict.items()]\n",
    "\n",
    "        self.mode = mode\n",
    "        self.model = SentenceTransformer(model_zoo[mode])\n",
    "\n",
    "        self.dist_matrix = self.create_matrix()\n",
    "\n",
    "    def get_cos_dist(self, class_name1, class_name2):\n",
    "        embedding_1= self.model.encode(class_name1, convert_to_tensor=True)\n",
    "        embedding_2 = self.model.encode(class_name2, convert_to_tensor=True)\n",
    "        return (1 - util.pytorch_cos_sim(embedding_1, embedding_2))\n",
    "\n",
    "    def create_matrix(self):\n",
    "        num_class = len(self.categories)\n",
    "        c2c_dist = np.zeros((num_class, num_class))\n",
    "        for i in range(num_class):\n",
    "            for j in range(i+1, num_class):\n",
    "                cat1, cat2 = self.categories[i], self.categories[j]\n",
    "                c2c_dist[cat1['class_label'], cat2['class_label']] = c2c_dist[cat2['class_label'], cat1['class_label']] = self.get_cos_dist(cat1['class_name'], cat2['class_name'])\n",
    "\n",
    "        return c2c_dist\n",
    "        \n",
    "\n",
    "    def load_matrix():\n",
    "        pass\n"
   ]
  },
  {
   "cell_type": "code",
   "execution_count": null,
   "metadata": {},
   "outputs": [
    {
     "data": {
      "text/plain": [
       "([<matplotlib.axis.YTick at 0x7f69239518e0>,\n",
       "  <matplotlib.axis.YTick at 0x7f69239515b0>,\n",
       "  <matplotlib.axis.YTick at 0x7f69238b2970>,\n",
       "  <matplotlib.axis.YTick at 0x7f69238fcb50>,\n",
       "  <matplotlib.axis.YTick at 0x7f69238fbca0>,\n",
       "  <matplotlib.axis.YTick at 0x7f69238c0040>,\n",
       "  <matplotlib.axis.YTick at 0x7f69238cf8e0>,\n",
       "  <matplotlib.axis.YTick at 0x7f69238ce070>,\n",
       "  <matplotlib.axis.YTick at 0x7f69238ce7c0>,\n",
       "  <matplotlib.axis.YTick at 0x7f69238f1070>,\n",
       "  <matplotlib.axis.YTick at 0x7f69238cec70>,\n",
       "  <matplotlib.axis.YTick at 0x7f69238cfdf0>,\n",
       "  <matplotlib.axis.YTick at 0x7f69238fc340>,\n",
       "  <matplotlib.axis.YTick at 0x7f69238f1a90>,\n",
       "  <matplotlib.axis.YTick at 0x7f69237bc220>],\n",
       " [Text(0, 0, 'chair'),\n",
       "  Text(0, 1, 'couch'),\n",
       "  Text(0, 2, 'potted plant'),\n",
       "  Text(0, 3, 'bed'),\n",
       "  Text(0, 4, 'toilet'),\n",
       "  Text(0, 5, 'tv'),\n",
       "  Text(0, 6, 'dining-table'),\n",
       "  Text(0, 7, 'oven'),\n",
       "  Text(0, 8, 'sink'),\n",
       "  Text(0, 9, 'refrigerator'),\n",
       "  Text(0, 10, 'book'),\n",
       "  Text(0, 11, 'clock'),\n",
       "  Text(0, 12, 'vase'),\n",
       "  Text(0, 13, 'cup'),\n",
       "  Text(0, 14, 'bottle')])"
      ]
     },
     "execution_count": 14,
     "metadata": {},
     "output_type": "execute_result"
    },
    {
     "data": {
      "image/png": "[encoded data removed]",
      "text/plain": [
       "<Figure size 432x288 with 2 Axes>"
      ]
     },
     "metadata": {
      "needs_background": "light"
     },
     "output_type": "display_data"
    }
   ],
   "source": [
    "import matplotlib.pyplot as plt\n",
    "import numpy as np\n",
    "\n",
    "dist_matrix = DistMatrix(coco_categories, mode='bert').dist_matrix\n",
    "num_class = len(coco_categories)\n",
    "plt.imshow(dist_matrix, interpolation='none')\n",
    "plt.colorbar()\n",
    "plt.xticks(range(num_class), [coco_label_mapping[label] for label in range(num_class)], fontsize=12, rotation=90)\n",
    "plt.yticks(range(num_class), [coco_label_mapping[label] for label in range(num_class)], fontsize=12)"
   ]
  },
  {
   "cell_type": "code",
   "execution_count": null,
   "metadata": {},
   "outputs": [
    {
     "data": {
      "application/vnd.jupyter.widget-view+json": {
       "model_id": "9e88b94cf70e47d996b950837cb2af73",
       "version_major": 2,
       "version_minor": 0
      },
      "text/plain": [
       "Downloading:   0%|          | 0.00/1.22k [00:00<?, ?B/s]"
      ]
     },
     "metadata": {},
     "output_type": "display_data"
    },
    {
     "data": {
      "application/vnd.jupyter.widget-view+json": {
       "model_id": "1a0d6b1799c24661904542b8e44764e3",
       "version_major": 2,
       "version_minor": 0
      },
      "text/plain": [
       "Downloading:   0%|          | 0.00/4.54k [00:00<?, ?B/s]"
      ]
     },
     "metadata": {},
     "output_type": "display_data"
    },
    {
     "data": {
      "application/vnd.jupyter.widget-view+json": {
       "model_id": "1dfb5dc6cd3140aa80c99fe72c5fdcbe",
       "version_major": 2,
       "version_minor": 0
      },
      "text/plain": [
       "Downloading:   0%|          | 0.00/525k [00:00<?, ?B/s]"
      ]
     },
     "metadata": {},
     "output_type": "display_data"
    },
    {
     "data": {
      "application/vnd.jupyter.widget-view+json": {
       "model_id": "9a5489447fe44e3380f02b42a0ad8062",
       "version_major": 2,
       "version_minor": 0
      },
      "text/plain": [
       "Downloading:   0%|          | 0.00/354 [00:00<?, ?B/s]"
      ]
     },
     "metadata": {},
     "output_type": "display_data"
    },
    {
     "data": {
      "application/vnd.jupyter.widget-view+json": {
       "model_id": "7722107045454751b62e0a5543675b4c",
       "version_major": 2,
       "version_minor": 0
      },
      "text/plain": [
       "Downloading:   0%|          | 0.00/1.71G [00:00<?, ?B/s]"
      ]
     },
     "metadata": {},
     "output_type": "display_data"
    },
    {
     "data": {
      "application/vnd.jupyter.widget-view+json": {
       "model_id": "c36ce7321d7042e486406ff736e34f41",
       "version_major": 2,
       "version_minor": 0
      },
      "text/plain": [
       "Downloading:   0%|          | 0.00/389 [00:00<?, ?B/s]"
      ]
     },
     "metadata": {},
     "output_type": "display_data"
    },
    {
     "data": {
      "application/vnd.jupyter.widget-view+json": {
       "model_id": "058d99b182ee4557b4bb018a587cbc77",
       "version_major": 2,
       "version_minor": 0
      },
      "text/plain": [
       "Downloading:   0%|          | 0.00/2.22M [00:00<?, ?B/s]"
      ]
     },
     "metadata": {},
     "output_type": "display_data"
    },
    {
     "data": {
      "application/vnd.jupyter.widget-view+json": {
       "model_id": "5155a876d2cc42a3b3fddd66d1edc963",
       "version_major": 2,
       "version_minor": 0
      },
      "text/plain": [
       "Downloading:   0%|          | 0.00/733 [00:00<?, ?B/s]"
      ]
     },
     "metadata": {},
     "output_type": "display_data"
    },
    {
     "data": {
      "application/vnd.jupyter.widget-view+json": {
       "model_id": "49242d241b784a50afa23ba70019bd45",
       "version_major": 2,
       "version_minor": 0
      },
      "text/plain": [
       "Downloading:   0%|          | 0.00/862k [00:00<?, ?B/s]"
      ]
     },
     "metadata": {},
     "output_type": "display_data"
    },
    {
     "data": {
      "application/vnd.jupyter.widget-view+json": {
       "model_id": "491e5a788b5c4ae5a18963d5afa402c9",
       "version_major": 2,
       "version_minor": 0
      },
      "text/plain": [
       "Downloading:   0%|          | 0.00/1.88k [00:00<?, ?B/s]"
      ]
     },
     "metadata": {},
     "output_type": "display_data"
    },
    {
     "data": {
      "application/vnd.jupyter.widget-view+json": {
       "model_id": "d0d7c56bea4b4f099918b30f74a5b1b2",
       "version_major": 2,
       "version_minor": 0
      },
      "text/plain": [
       "Downloading:   0%|          | 0.00/118 [00:00<?, ?B/s]"
      ]
     },
     "metadata": {},
     "output_type": "display_data"
    },
    {
     "data": {
      "application/vnd.jupyter.widget-view+json": {
       "model_id": "749adbf922064785848cfb67aa57b315",
       "version_major": 2,
       "version_minor": 0
      },
      "text/plain": [
       "Downloading:   0%|          | 0.00/122 [00:00<?, ?B/s]"
      ]
     },
     "metadata": {},
     "output_type": "display_data"
    },
    {
     "data": {
      "text/plain": [
       "([<matplotlib.axis.YTick at 0x7f6923629970>,\n",
       "  <matplotlib.axis.YTick at 0x7f69236291f0>,\n",
       "  <matplotlib.axis.YTick at 0x7f6923623160>,\n",
       "  <matplotlib.axis.YTick at 0x7f6923401790>,\n",
       "  <matplotlib.axis.YTick at 0x7f69233f4040>,\n",
       "  <matplotlib.axis.YTick at 0x7f6923401b80>,\n",
       "  <matplotlib.axis.YTick at 0x7f69233ffac0>,\n",
       "  <matplotlib.axis.YTick at 0x7f69235b40d0>,\n",
       "  <matplotlib.axis.YTick at 0x7f69233f49d0>,\n",
       "  <matplotlib.axis.YTick at 0x7f69233f5190>,\n",
       "  <matplotlib.axis.YTick at 0x7f69233f58e0>,\n",
       "  <matplotlib.axis.YTick at 0x7f692340e070>,\n",
       "  <matplotlib.axis.YTick at 0x7f69233f5ca0>,\n",
       "  <matplotlib.axis.YTick at 0x7f69233f4c70>,\n",
       "  <matplotlib.axis.YTick at 0x7f6923401310>],\n",
       " [Text(0, 0, 'chair'),\n",
       "  Text(0, 1, 'couch'),\n",
       "  Text(0, 2, 'potted plant'),\n",
       "  Text(0, 3, 'bed'),\n",
       "  Text(0, 4, 'toilet'),\n",
       "  Text(0, 5, 'tv'),\n",
       "  Text(0, 6, 'dining-table'),\n",
       "  Text(0, 7, 'oven'),\n",
       "  Text(0, 8, 'sink'),\n",
       "  Text(0, 9, 'refrigerator'),\n",
       "  Text(0, 10, 'book'),\n",
       "  Text(0, 11, 'clock'),\n",
       "  Text(0, 12, 'vase'),\n",
       "  Text(0, 13, 'cup'),\n",
       "  Text(0, 14, 'bottle')])"
      ]
     },
     "execution_count": 18,
     "metadata": {},
     "output_type": "execute_result"
    },
    {
     "data": {
      "image/png": "[encoded data removed]",
      "text/plain": [
       "<Figure size 432x288 with 2 Axes>"
      ]
     },
     "metadata": {
      "needs_background": "light"
     },
     "output_type": "display_data"
    }
   ],
   "source": [
    "import matplotlib.pyplot as plt\n",
    "import numpy as np\n",
    "\n",
    "dist_matrix = DistMatrix(coco_categories, mode='clip').dist_matrix\n",
    "num_class = len(coco_categories)\n",
    "plt.imshow(dist_matrix, interpolation='none')\n",
    "plt.colorbar()\n",
    "plt.xticks(range(num_class), [coco_label_mapping[label] for label in range(num_class)], fontsize=12, rotation=90)\n",
    "plt.yticks(range(num_class), [coco_label_mapping[label] for label in range(num_class)], fontsize=12)"
   ]
  }
 ],
 "metadata": {
  "interpreter": {
   "hash": "9ce82c06b6b35c30d158c8597933de2708e2d72f712716489c3fec53a52a0bc3"
  },
  "kernelspec": {
   "display_name": "Python 3.8.13 ('ros_env')",
   "language": "python",
   "name": "python3"
  },
  "language_info": {
   "codemirror_mode": {
    "name": "ipython",
    "version": 3
   },
   "file_extension": ".py",
   "mimetype": "text/x-python",
   "name": "python",
   "nbconvert_exporter": "python",
   "pygments_lexer": "ipython3",
   "version": "3.8.13"
  },
  "orig_nbformat": 4
 },
 "nbformat": 4,
 "nbformat_minor": 2
}
