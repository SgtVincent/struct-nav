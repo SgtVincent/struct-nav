{
 "cells": [
  {
   "cell_type": "markdown",
   "metadata": {},
   "source": [
    "## Demo of episode follower"
   ]
  },
  {
   "cell_type": "markdown",
   "metadata": {},
   "source": [
    "### import and arguments"
   ]
  },
  {
   "cell_type": "code",
   "execution_count": 1,
   "metadata": {},
   "outputs": [
    {
     "name": "stdout",
     "output_type": "stream",
     "text": [
      "/home/junting/project_cvl/SceneGraphNav\n",
      "scene HxpKQynjfin is in train split\n"
     ]
    }
   ],
   "source": [
    "import glob\n",
    "import argparse\n",
    "import os \n",
    "from os import path as osp\n",
    "import numpy as np\n",
    "import tqdm\n",
    "import matplotlib.pyplot as plt \n",
    "from habitat.utils.visualizations.utils import images_to_video\n",
    "import habitat_sim\n",
    "from PIL import Image \n",
    "\n",
    "# local import \n",
    "# cd to the root directory of this project \n",
    "%cd /home/junting/project_cvl/SceneGraphNav\n",
    "from dataset.habitat.simulator import init_sim\n",
    "\n",
    "\n",
    "# NUM_TESTS = 100\n",
    "# TURN_DEGREE = 30.0\n",
    "# ACCEPTABLE_SPLS = {\n",
    "#     (\"try_step\", False): 0.97,\n",
    "#     (\"try_step_no_sliding\", False): 0.925,\n",
    "#     (\"try_step\", True): 0.82,\n",
    "#     (\"try_step_no_sliding\", True): 0.60,\n",
    "# }\n",
    "\n",
    "scene_error = ['HxpKQynjfin', '29hnd4uzFmX']\n",
    "scene_empty_map = ['fzynW3qQPVF']\n",
    "\n",
    "\n",
    "def parse_args(input=\"\"):\n",
    "\n",
    "    parser = argparse.ArgumentParser()\n",
    "    parser.add_argument(\"--scan_dir\", type=str, default=\"/media/junting/SSD_data/habitat_data/scene_datasets/mp3d/v1/scans\")\n",
    "    parser.add_argument(\"--task_dir\", type=str, default=\"/media/junting/SSD_data/habitat_data/datasets/objectnav/mp3d/v1\")\n",
    "    parser.add_argument(\"--scene_name\", type=str, default=\"HxpKQynjfin\") # 17DRP5sb8fy\n",
    "    parser.add_argument(\"--dataset\", type=str, default=\"matterport\")\n",
    "    # parser.add_argument(\"--split\")\n",
    "\n",
    "    parser.add_argument(\"--visualize\", type=int, default=1)\n",
    "    parser.add_argument(\"--vis_mode\", type=str, default=\"segment\", choices=[\"rgb\", \"segment\"])\n",
    "    \n",
    "    parser.add_argument(\"--rel_dist_thresh\", type=float, default=2.0, help=\"threshold of max distance between two objects that could have a relationship\")\n",
    "\n",
    "    args = parser.parse_args(input)  \n",
    "    args.scene_ply_path = os.path.join(args.scan_dir, args.scene_name, f'{args.scene_name}_semantic.ply')\n",
    "    args.scene_glb_path = os.path.join(args.scan_dir, args.scene_name, f'{args.scene_name}.glb')\n",
    "    args.pclseg_path = os.path.join(args.scan_dir, args.scene_name, f'{args.scene_name}_pclseg.txt')\n",
    "    args.pcl_normals_path = os.path.join(args.scan_dir, args.scene_name, f'{args.scene_name}_normals.npy')\n",
    "    args.house_file_path = os.path.join(args.scan_dir, args.scene_name, f'{args.scene_name}.house')\n",
    "    args.navmesh_file_path = os.path.join(args.scan_dir, args.scene_name, f'{args.scene_name}.navmesh')\n",
    "    if os.path.exists(\n",
    "        os.path.join(args.task_dir, 'train', 'content', f'{args.scene_name}.json.gz')\n",
    "    ): # train split \n",
    "        args.episode_path = os.path.join(args.task_dir, 'train', 'content', f'{args.scene_name}.json.gz') \n",
    "        print(f\"scene {args.scene_name} is in train split\")\n",
    "    elif os.path.exists(\n",
    "        os.path.join(args.task_dir, 'val', 'content', f'{args.scene_name}.json.gz')\n",
    "    ): # val split \n",
    "        args.episode_path = os.path.join(args.task_dir, 'val', 'content', f'{args.scene_name}.json.gz') \n",
    "        print(f\"scene {args.scene_name} is in val split\")\n",
    "    else:\n",
    "        print(f\"No episode file found for scene {args.scene_name}\")\n",
    "        args.episode_path = None\n",
    "    \n",
    "    return args \n",
    "\n",
    "args = parse_args()\n"
   ]
  },
  {
   "cell_type": "markdown",
   "metadata": {},
   "source": [
    "### util functions "
   ]
  },
  {
   "cell_type": "code",
   "execution_count": 2,
   "metadata": {},
   "outputs": [],
   "source": [
    "\n",
    "def display_map(topdown_map, key_points=None):\n",
    "    plt.figure(figsize=(12, 8))\n",
    "    ax = plt.subplot(1, 1, 1)\n",
    "    ax.axis(\"off\")\n",
    "    plt.imshow(topdown_map)\n",
    "    # plot points on map\n",
    "    if key_points is not None:\n",
    "        for point in key_points:\n",
    "            plt.plot(point[0], point[1], marker=\"o\", markersize=10, alpha=0.8)\n",
    "    plt.show(block=False)\n",
    "    \n",
    "def display_sample(rgb_obs, semantic_obs=np.array([]), depth_obs=np.array([])):\n",
    "    from habitat_sim.utils.common import d3_40_colors_rgb\n",
    "\n",
    "    rgb_img = Image.fromarray(rgb_obs, mode=\"RGBA\")\n",
    "\n",
    "    arr = [rgb_img]\n",
    "    titles = [\"rgb\"]\n",
    "    if semantic_obs.size != 0:\n",
    "        semantic_img = Image.new(\"P\", (semantic_obs.shape[1], semantic_obs.shape[0]))\n",
    "        semantic_img.putpalette(d3_40_colors_rgb.flatten())\n",
    "        semantic_img.putdata((semantic_obs.flatten() % 40).astype(np.uint8))\n",
    "        semantic_img = semantic_img.convert(\"RGBA\")\n",
    "        arr.append(semantic_img)\n",
    "        titles.append(\"semantic\")\n",
    "\n",
    "    if depth_obs.size != 0:\n",
    "        depth_img = Image.fromarray((depth_obs / 10 * 255).astype(np.uint8), mode=\"L\")\n",
    "        arr.append(depth_img)\n",
    "        titles.append(\"depth\")\n",
    "\n",
    "    plt.figure(figsize=(12, 8))\n",
    "    for i, data in enumerate(arr):\n",
    "        ax = plt.subplot(1, 3, i + 1)\n",
    "        ax.axis(\"off\")\n",
    "        ax.set_title(titles[i])\n",
    "        plt.imshow(data)\n",
    "    plt.show(block=False)"
   ]
  },
  {
   "cell_type": "markdown",
   "metadata": {},
   "source": [
    "### initialize habitat environment "
   ]
  },
  {
   "cell_type": "code",
   "execution_count": null,
   "metadata": {},
   "outputs": [],
   "source": [
    "# sim, action_names, sim_settings = init_sim(args.scene_glb_path)\n",
    "# seed = 0\n",
    "# np.random.seed(seed=seed)\n",
    "# sim.pathfinder.seed(seed)\n",
    "\n",
    "# greedy_follower = sim.make_greedy_follower() # use all default settings of simulator "
   ]
  },
  {
   "cell_type": "code",
   "execution_count": 4,
   "metadata": {},
   "outputs": [],
   "source": [
    "pathfinder = habitat_sim.PathFinder()\n",
    "pathfinder.load_nav_mesh(args.navmesh_file_path)\n",
    "assert pathfinder.is_loaded\n",
    "pathfinder.seed(0)\n",
    "np.random.seed(seed=0)"
   ]
  },
  {
   "cell_type": "code",
   "execution_count": 6,
   "metadata": {},
   "outputs": [
    {
     "data": {
      "image/png": "[encoded data removed]",
      "text/plain": [
       "<Figure size 864x576 with 1 Axes>"
      ]
     },
     "metadata": {
      "needs_background": "light"
     },
     "output_type": "display_data"
    }
   ],
   "source": [
    "top_down_map = pathfinder.get_topdown_view(0.1, 0)\n",
    "display_map(top_down_map)"
   ]
  },
  {
   "cell_type": "markdown",
   "metadata": {},
   "source": [
    "### load ground truth episode "
   ]
  },
  {
   "cell_type": "code",
   "execution_count": 16,
   "metadata": {},
   "outputs": [
    {
     "name": "stdout",
     "output_type": "stream",
     "text": [
      "dict_keys(['goals_by_category', 'episodes', 'category_to_task_category_id', 'category_to_mp3d_category_id'])\n",
      "Load 47500 number of episodes\n"
     ]
    }
   ],
   "source": []
  },
  {
   "cell_type": "markdown",
   "metadata": {},
   "source": [
    "### main "
   ]
  },
  {
   "cell_type": "code",
   "execution_count": null,
   "metadata": {},
   "outputs": [],
   "source": [
    "\n",
    "ep_idx = 0\n",
    "episode = \n",
    "test_spl = 0.0\n",
    "\n"
   ]
  }
 ],
 "metadata": {
  "interpreter": {
   "hash": "7dcd87a8e0ac397480ba1550a38c5756ce72bf6a537ffb86e2a866d716d9e5ad"
  },
  "kernelspec": {
   "display_name": "Python 3.8.12 ('sg_nav')",
   "language": "python",
   "name": "python3"
  },
  "language_info": {
   "codemirror_mode": {
    "name": "ipython",
    "version": 3
   },
   "file_extension": ".py",
   "mimetype": "text/x-python",
   "name": "python",
   "nbconvert_exporter": "python",
   "pygments_lexer": "ipython3",
   "version": "3.8.12"
  },
  "orig_nbformat": 4
 },
 "nbformat": 4,
 "nbformat_minor": 2
}
