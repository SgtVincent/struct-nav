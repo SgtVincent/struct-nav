{
 "cells": [
  {
   "cell_type": "code",
   "execution_count": 1,
   "metadata": {},
   "outputs": [
    {
     "ename": "SyntaxError",
     "evalue": "invalid syntax (scene_graph_pred.py, line 115)",
     "output_type": "error",
     "traceback": [
      "Traceback \u001b[0;36m(most recent call last)\u001b[0m:\n",
      "  File \u001b[1;32m\"/home/junting/.local/lib/python3.8/site-packages/IPython/core/interactiveshell.py\"\u001b[0m, line \u001b[1;32m3444\u001b[0m, in \u001b[1;35mrun_code\u001b[0m\n    exec(code_obj, self.user_global_ns, self.user_ns)\n",
      "\u001b[0;36m  File \u001b[0;32m\"/tmp/ipykernel_4689/2025799333.py\"\u001b[0;36m, line \u001b[0;32m15\u001b[0;36m, in \u001b[0;35m<module>\u001b[0;36m\u001b[0m\n\u001b[0;31m    from scene_graph.scene_graph_pred import SceneGraphPredictor\u001b[0m\n",
      "\u001b[0;36m  File \u001b[0;32m\"/home/junting/project_cvl/SceneGraphNav/scene_graph/scene_graph_pred.py\"\u001b[0;36m, line \u001b[0;32m115\u001b[0m\n\u001b[0;31m    \"descriptor\": descriptors.nmodel f)\u001b[0m\n\u001b[0m                                     ^\u001b[0m\n\u001b[0;31mSyntaxError\u001b[0m\u001b[0;31m:\u001b[0m invalid syntax\n"
     ]
    }
   ],
   "source": [
    "%load_ext autoreload\n",
    "%autoreload 2\n",
    "import argparse\n",
    "import os \n",
    "from habitat_sim.agent.controls.controls import SceneNodeControl\n",
    "import open3d as o3d\n",
    "import numpy as np\n",
    "from dataset.habitat.simulator import init_sim \n",
    "from plyfile import PlyData, PlyElement\n",
    "\n",
    "# local import \n",
    "from scene_graph.scene_graph_cls import SceneGraphHabitat\n",
    "from scene_graph.config import SceneGraphHabitatConfig\n",
    "from scene_graph.utils import visualize_scene_graph, getOBB\n",
    "from scene_graph.scene_graph_pred import SceneGraphPredictor\n",
    "\n",
    "def parse_args(input=\"\"):\n",
    "\n",
    "    parser = argparse.ArgumentParser()\n",
    "    parser.add_argument(\"--scan_dir\", type=str, default=\"/media/junting/SSD_data/habitat_data/scene_datasets/mp3d/v1/scans\")\n",
    "    parser.add_argument(\"--scene_name\", type=str, default=\"17DRP5sb8fy\")\n",
    "    parser.add_argument(\"--dataset\", type=str, default=\"matterport\")\n",
    "    \n",
    "    parser.add_argument(\"--visualize\", type=int, default=1)\n",
    "    parser.add_argument(\"--vis_mode\", type=str, default=\"segment\", choices=[\"rgb\", \"segment\"])\n",
    "    \n",
    "    parser.add_argument(\"--rel_dist_thresh\", type=float, default=2.0, help=\"threshold of max distance between two objects that could have a relationship\")\n",
    "\n",
    "    args = parser.parse_args(input)  \n",
    "    args.scene_ply_path = os.path.join(args.scan_dir, args.scene_name, f'{args.scene_name}_semantic.ply')\n",
    "    args.scene_glb_path = os.path.join(args.scan_dir, args.scene_name, f'{args.scene_name}.glb')\n",
    "    args.pclseg_path = os.path.join(args.scan_dir, args.scene_name, f'{args.scene_name}_pclseg.txt')\n",
    "    args.pcl_normals_path = os.path.join(args.scan_dir, args.scene_name, f'{args.scene_name}_normals.npy')\n",
    "    args.house_file_path = os.path.join(args.scan_dir, args.scene_name, f'{args.scene_name}.house')\n",
    "    return args \n",
    "\n",
    "\n"
   ]
  },
  {
   "cell_type": "code",
   "execution_count": null,
   "metadata": {},
   "outputs": [],
   "source": [
    "args = parse_args()\n",
    "############ load ground truth pointclouds ####################\n",
    "# o3d_pcl = o3d.io.read_point_cloud(args.scene_ply_path) # only load vertices \n",
    "# scene = o3d.io.read_triangle_mesh(args.scene_ply_path) # load mesh file \\\n"
   ]
  },
  {
   "cell_type": "code",
   "execution_count": null,
   "metadata": {},
   "outputs": [
    {
     "name": "stderr",
     "output_type": "stream",
     "text": [
      "WARNING: Logging before InitGoogleLogging() is written to STDERR\n",
      "I1125 15:49:39.141994 42515 ManagedFileBasedContainer.h:210] <Dataset>::convertFilenameToPassedExt : Filename : default changed to proposed scene_dataset_config.json filename : default.scene_dataset_config.json\n",
      "I1125 15:49:39.142017 42515 AttributesManagerBase.h:365] <Dataset>::createFromJsonOrDefaultInternal : Proposing JSON name : default.scene_dataset_config.json from original name : default | This file  does not exist.\n",
      "I1125 15:49:42.677098 42515 simulator.py:221] Loaded navmesh /media/junting/SSD_data/habitat_data/scene_datasets/mp3d/v1/scans/17DRP5sb8fy/17DRP5sb8fy.navmesh\n",
      "I1125 15:49:39.142112 42515 AssetAttributesManager.cpp:120] Asset attributes (capsule3DSolid : capsule3DSolid_hemiRings_4_cylRings_1_segments_12_halfLen_0.75_useTexCoords_false_useTangents_false) created and registered.\n",
      "I1125 15:49:39.142138 42515 AssetAttributesManager.cpp:120] Asset attributes (capsule3DWireframe : capsule3DWireframe_hemiRings_8_cylRings_1_segments_16_halfLen_1) created and registered.\n",
      "I1125 15:49:39.142160 42515 AssetAttributesManager.cpp:120] Asset attributes (coneSolid : coneSolid_segments_12_halfLen_1.25_rings_1_useTexCoords_false_useTangents_false_capEnd_true) created and registered.\n",
      "I1125 15:49:39.142174 42515 AssetAttributesManager.cpp:120] Asset attributes (coneWireframe : coneWireframe_segments_32_halfLen_1.25) created and registered.\n",
      "I1125 15:49:39.142181 42515 AssetAttributesManager.cpp:120] Asset attributes (cubeSolid : cubeSolid) created and registered.\n",
      "I1125 15:49:39.142187 42515 AssetAttributesManager.cpp:120] Asset attributes (cubeWireframe : cubeWireINFO - 2021-11-25 15:49:42,677 - simulator - I1125 15:49:42.677098 42515 simulator.py:221] Loaded navmesh /media/junting/SSD_data/habitat_data/scene_datasets/mp3d/v1/scans/17DRP5sb8fy/17DRP5sb8fy.navmesh\n"
     ]
    },
    {
     "name": "stdout",
     "output_type": "stream",
     "text": [
      "Renderer: GeForce RTX 3080/PCIe/SSE2 by NVIDIA Corporation\n",
      "OpenGL version: 4.6.0 NVIDIA 460.91.03\n",
      "Using optional features:\n",
      "    GL_ARB_vertex_array_object\n",
      "    GL_ARB_ES2_compatibility\n",
      "    GL_ARB_separate_shader_objects\n",
      "    GL_ARB_robustness\n",
      "    GL_ARB_texture_storage\n",
      "    GL_ARB_invalidate_subdata\n",
      "    GL_ARB_texture_storage_multisample\n",
      "    GL_ARB_multi_bind\n",
      "    GL_ARB_direct_state_access\n",
      "    GL_ARB_get_texture_sub_image\n",
      "    GL_ARB_texture_filter_anisotropic\n",
      "    GL_KHR_debug\n",
      "Using driver workarounds:\n",
      "    no-forward-compatible-core-context\n",
      "    no-layout-qualifiers-on-old-glsl\n",
      "    nv-zero-context-profile-mask\n",
      "    nv-implementation-color-read-format-dsa-broken\n",
      "    nv-cubemap-inconsistent-compressed-image-size\n",
      "    nv-cubemap-broken-full-compressed-image-query\n",
      "    nv-compressed-block-size-in-bits\n",
      "agent_state: position [0. 0. 0.] rotation quaternion(1, 0, 0, 0)\n",
      "sensor_states: {'rgb': SixDOFPose(position=array([0. , 1.5, 0. ], dtype=float32), rotation=quaternion(1, 0, 0, 0)), 'depth': SixDOFPose(position=array([0. , 1.5, 0. ], dtype=float32), rotation=quaternion(1, 0, 0, 0)), 'semantic': SixDOFPose(position=array([0. , 1.5, 0. ], dtype=float32), rotation=quaternion(1, 0, 0, 0))}\n"
     ]
    },
    {
     "name": "stderr",
     "output_type": "stream",
     "text": [
      "frame) created and registered.\n",
      "I1125 15:49:39.142204 42515 AssetAttributesManager.cpp:120] Asset attributes (cylinderSolid : cylinderSolid_rings_1_segments_12_halfLen_1_useTexCoords_false_useTangents_false_capEnds_true) created and registered.\n",
      "I1125 15:49:39.142220 42515 AssetAttributesManager.cpp:120] Asset attributes (cylinderWireframe : cylinderWireframe_rings_1_segments_32_halfLen_1) created and registered.\n",
      "I1125 15:49:39.142228 42515 AssetAttributesManager.cpp:120] Asset attributes (icosphereSolid : icosphereSolid_subdivs_1) created and registered.\n",
      "I1125 15:49:39.142235 42515 AssetAttributesManager.cpp:120] Asset attributes (icosphereWireframe : icosphereWireframe_subdivs_1) created and registered.\n",
      "I1125 15:49:39.142246 42515 AssetAttributesManager.cpp:120] Asset attributes (uvSphereSolid : uvSphereSolid_rings_8_segments_16_useTexCoords_false_useTangents_false) created and registered.\n",
      "I1125 15:49:39.142257 42515 AssetAttributesManager.cpp:120] Asset attributes (uvSphereWireframe : uvSphereWireframe_rings_16_segments_32) created and registered.\n",
      "I1125 15:49:39.142261 42515 AssetAttributesManager.cpp:108] ::constructor : Built default primitive asset templates : 12\n",
      "I1125 15:49:39.142632 42515 SceneDatasetAttributesManager.cpp:36] File (default) not found, so new default dataset attributes created and registered.\n",
      "I1125 15:49:39.142635 42515 MetadataMediator.cpp:127] ::createSceneDataset : Dataset default successfully created.\n",
      "I1125 15:49:39.142639 42515 AttributesManagerBase.h:365] <Physics Manager>::createFromJsonOrDefaultInternal : Proposing JSON name : ./data/default.physics_config.json from original name : ./data/default.physics_config.json | This file  does not exist.\n",
      "I1125 15:49:39.142649 42515 PhysicsAttributesManager.cpp:26] File (./data/default.physics_config.json) not found, so new default physics manager attributes created and registered.\n",
      "I1125 15:49:39.142652 42515 MetadataMediator.cpp:212] ::setActiveSceneDatasetName : Previous active dataset  changed to default successfully.\n",
      "I1125 15:49:39.142653 42515 MetadataMediator.cpp:183] ::setCurrPhysicsAttributesHandle : Old physics manager attributes  changed to ./data/default.physics_config.json successfully.\n",
      "I1125 15:49:39.142655 42515 MetadataMediator.cpp:68] ::setSimulatorConfiguration : Set new simulator config for scene/stage : /media/junting/SSD_data/habitat_data/scene_datasets/mp3d/v1/scans/17DRP5sb8fy/17DRP5sb8fy.glb and dataset : default which is currently active dataset.\n",
      "I1125 15:49:39.240226 42515 ManagedFileBasedContainer.h:210] <Scene Instance>::convertFilenameToPassedExt : Filename : /media/junting/SSD_data/habitat_data/scene_datasets/mp3d/v1/scans/17DRP5sb8fy/17DRP5sb8fy.glb changed to proposed scene_instance.json filename : /media/junting/SSD_data/habitat_data/scene_datasets/mp3d/v1/scans/17DRP5sb8fy/17DRP5sb8fy.scene_instance.json\n",
      "I1125 15:49:39.240382 42515 MetadataMediator.cpp:311] ::getSceneAttributesByName : Dataset : default has no preloaded SceneAttributes or StageAttributes named : /media/junting/SSD_data/habitat_data/scene_datasets/mp3d/v1/scans/17DRP5sb8fy/17DRP5sb8fy.glb so loading/creating a new StageAttributes with this name, and then creating a SceneAttributes with the same name that references this stage.\n",
      "I1125 15:49:39.240388 42515 ManagedFileBasedContainer.h:210] <Stage Template>::convertFilenameToPassedExt : Filename : /media/junting/SSD_data/habitat_data/scene_datasets/mp3d/v1/scans/17DRP5sb8fy/17DRP5sb8fy.glb changed to proposed stage_config.json filename : /media/junting/SSD_data/habitat_data/scene_datasets/mp3d/v1/scans/17DRP5sb8fy/17DRP5sb8fy.stage_config.json\n",
      "I1125 15:49:39.240432 42515 AttributesManagerBase.h:365] <Stage Template>::createFromJsonOrDefaultInternal : Proposing JSON name : /media/junting/SSD_data/habitat_data/scene_datasets/mp3d/v1/scans/17DRP5sb8fy/17DRP5sb8fy.stage_config.json from original name : /media/junting/SSD_data/habitat_data/scene_datasets/mp3d/v1/scans/17DRP5sb8fy/17DRP5sb8fy.glb | This file  does not exist.\n",
      "I1125 15:49:39.240696 42515 AbstractObjectAttributesManagerBase.h:183] File (/media/junting/SSD_data/habitat_data/scene_datasets/mp3d/v1/scans/17DRP5sb8fy/17DRP5sb8fy.glb) exists but is not a recognized config filename extension, so new default Stage Template attributes created and registered.\n",
      "I1125 15:49:39.240718 42515 SceneDatasetAttributes.cpp:45] ::addNewSceneInstanceToDataset : Dataset : 'default' : Stage Attributes '/media/junting/SSD_data/habitat_data/scene_datasets/mp3d/v1/scans/17DRP5sb8fy/17DRP5sb8fy.glb' specified in Scene Attributes exists in dataset library.\n",
      "I1125 15:49:39.240720 42515 SceneDatasetAttributes.cpp:79] ::addNewSceneInstanceToDataset : Dataset : 'default' : Lighting Layout Attributes 'no_lights' specified in Scene Attributes but does not exist in dataset, so creating.\n",
      "I1125 15:49:39.240722 42515 ManagedFileBasedContainer.h:210] <Lighting Layout>::convertFilenameToPassedExt : Filename : no_lights changed to proposed lighting_config.json filename : no_lights.lighting_config.json\n",
      "I1125 15:49:39.240725 42515 ManagedFileBasedContainer.h:210] <Lighting Layout>::convertFilenameToPassedExt : Filename : no_lights changed to proposed lighting_config.json filename : no_lights.lighting_config.json\n",
      "I1125 15:49:39.240727 42515 AttributesManagerBase.h:365] <Lighting Layout>::createFromJsonOrDefaultInternal : Proposing JSON name : no_lights.lighting_config.json from original name : no_lights | This file  does not exist.\n",
      "I1125 15:49:39.240736 42515 LightLayoutAttributesManager.cpp:34] File (no_lights) not found, so new default light layout attributes created and registered.\n",
      "I1125 15:49:39.240739 42515 Simulator.cpp:206] ::setSceneInstanceAttributes : Navmesh file location in scene instance : /media/junting/SSD_data/habitat_data/scene_datasets/mp3d/v1/scans/17DRP5sb8fy/17DRP5sb8fy.navmesh\n",
      "I1125 15:49:39.240779 42515 Simulator.cpp:213] ::setSceneInstanceAttributes : Loading navmesh from /media/junting/SSD_data/habitat_data/scene_datasets/mp3d/v1/scans/17DRP5sb8fy/17DRP5sb8fy.navmesh\n",
      "I1125 15:49:39.240885 42515 Simulator.cpp:216] ::setSceneInstanceAttributes : Navmesh Loaded.\n",
      "I1125 15:49:39.240895 42515 SceneGraph.h:85] Created DrawableGroup: \n",
      "I1125 15:49:39.240900 42515 Simulator.cpp:251] ::setSceneInstanceAttributes : SceneInstance : /media/junting/SSD_data/habitat_data/scene_datasets/mp3d/v1/scans/17DRP5sb8fy/17DRP5sb8fy.glb proposed Semantic Scene Descriptor filename : /media/junting/SSD_data/habitat_data/scene_datasets/mp3d/v1/scans/17DRP5sb8fy/17DRP5sb8fy.house\n",
      "W1125 15:49:39.260082 42515 Simulator.cpp:275] ::setSceneInstanceAttributes : All attempts to load SSD with SceneAttributes-provided name /media/junting/SSD_data/habitat_data/scene_datasets/mp3d/v1/scans/17DRP5sb8fy/17DRP5sb8fy.house : exist : 0 : loaded as expected type : 1\n",
      "I1125 15:49:39.260293 42515 Simulator.cpp:324] ::createSceneInstance : Using scene instance-specified Light key : -no_lights-\n",
      "I1125 15:49:39.260299 42515 MetadataMediator.cpp:68] ::setSimulatorConfiguration : Set new simulator config for scene/stage : /media/junting/SSD_data/habitat_data/scene_datasets/mp3d/v1/scans/17DRP5sb8fy/17DRP5sb8fy.glb and dataset : default which is currently active dataset.\n",
      "I1125 15:49:39.260318 42515 Simulator.cpp:382] ::createSceneInstance : Start to load stage named : /media/junting/SSD_data/habitat_data/scene_datasets/mp3d/v1/scans/17DRP5sb8fy/17DRP5sb8fy.glb with render asset : /media/junting/SSD_data/habitat_data/scene_datasets/mp3d/v1/scans/17DRP5sb8fy/17DRP5sb8fy.glb and collision asset : /media/junting/SSD_data/habitat_data/scene_datasets/mp3d/v1/scans/17DRP5sb8fy/17DRP5sb8fy.glb\n",
      "I1125 15:49:39.260399 42515 ResourceManager.cpp:217] ::loadStage : Loading Semantic Stage mesh : /media/junting/SSD_data/habitat_data/scene_datasets/mp3d/v1/scans/17DRP5sb8fy/17DRP5sb8fy_semantic.ply\n",
      "I1125 15:49:39.260403 42515 SceneGraph.h:85] Created DrawableGroup: \n",
      "I1125 15:49:39.260406 42515 ResourceManager.cpp:699] ::loadStageInternal : Attempting to load stage /media/junting/SSD_data/habitat_data/scene_datasets/mp3d/v1/scans/17DRP5sb8fy/17DRP5sb8fy_semantic.ply \n",
      "I1125 15:49:42.078727 42515 ResourceManager.cpp:248] ::loadStage : Semantic Stage mesh : /media/junting/SSD_data/habitat_data/scene_datasets/mp3d/v1/scans/17DRP5sb8fy/17DRP5sb8fy_semantic.ply loaded.\n",
      "I1125 15:49:42.078740 42515 ResourceManager.cpp:285] ::loadStage : start load render asset /media/junting/SSD_data/habitat_data/scene_datasets/mp3d/v1/scans/17DRP5sb8fy/17DRP5sb8fy.glb.\n",
      "I1125 15:49:42.078742 42515 ResourceManager.cpp:699] ::loadStageInternal : Attempting to load stage /media/junting/SSD_data/habitat_data/scene_datasets/mp3d/v1/scans/17DRP5sb8fy/17DRP5sb8fy.glb \n",
      "I1125 15:49:42.078909 42515 ResourceManager.cpp:1280] Importing Basis files as BC7 for 17DRP5sb8fy.glb\n",
      "I1125 15:49:42.676241 42515 Simulator.cpp:400] ::createSceneInstance : Successfully loaded stage named : /media/junting/SSD_data/habitat_data/scene_datasets/mp3d/v1/scans/17DRP5sb8fy/17DRP5sb8fy.glb\n",
      "I1125 15:49:42.676255 42515 MetadataMediator.cpp:262] ::getSceneAttributesByName : Query dataset : default for SceneAttributes named : /media/junting/SSD_data/habitat_data/scene_datasets/mp3d/v1/scans/17DRP5sb8fy/17DRP5sb8fy.glb yields 1 candidates.  Using /media/junting/SSD_data/habitat_data/scene_datasets/mp3d/v1/scans/17DRP5sb8fy/17DRP5sb8fy.glb.\n",
      "I1125 15:49:42.676263 42515 SceneDatasetAttributes.cpp:45] ::addNewSceneInstanceToDataset : Dataset : 'default' : Stage Attributes '/media/junting/SSD_data/habitat_data/scene_datasets/mp3d/v1/scans/17DRP5sb8fy/17DRP5sb8fy.glb' specified in Scene Attributes exists in dataset library.\n",
      "I1125 15:49:42.676265 42515 SceneDatasetAttributes.cpp:85] ::addNewSceneInstanceToDataset : Dataset : 'default' : Lighting Layout Attributes no_lights specified in Scene Attributes exists in dataset library.\n",
      "I1125 15:49:42.676271 42515 MetadataMediator.cpp:262] ::getSceneAttributesByName : Query dataset : default for SceneAttributes named : /media/junting/SSD_data/habitat_data/scene_datasets/mp3d/v1/scans/17DRP5sb8fy/17DRP5sb8fy.glb yields 1 candidates.  Using /media/junting/SSD_data/habitat_data/scene_datasets/mp3d/v1/scans/17DRP5sb8fy/17DRP5sb8fy.glb.\n",
      "I1125 15:49:42.676275 42515 SceneDatasetAttributes.cpp:45] ::addNewSceneInstanceToDataset : Dataset : 'default' : Stage Attributes '/media/junting/SSD_data/habitat_data/scene_datasets/mp3d/v1/scans/17DRP5sb8fy/17DRP5sb8fy.glb' specified in Scene Attributes exists in dataset library.\n",
      "I1125 15:49:42.676275 42515 SceneDatasetAttributes.cpp:85] ::addNewSceneInstanceToDataset : Dataset : 'default' : Lighting Layout Attributes no_lights specified in Scene Attributes exists in dataset library.\n",
      "I1125 15:49:42.676290 42515 Simulator.cpp:182] Simulator::reconfigure() : createSceneInstance success == true for active scene name : /media/junting/SSD_data/habitat_data/scene_datasets/mp3d/v1/scans/17DRP5sb8fy/17DRP5sb8fy.glb with renderer.\n"
     ]
    }
   ],
   "source": [
    "############ initialize habitat simulator and ground truth scene graph ########\n",
    "sim, action_names, sim_settings = init_sim(args.scene_glb_path)"
   ]
  },
  {
   "cell_type": "code",
   "execution_count": null,
   "metadata": {},
   "outputs": [
    {
     "name": "stderr",
     "output_type": "stream",
     "text": [
      " 10%|█         | 1/10 [00:00<00:01,  8.78it/s]"
     ]
    },
    {
     "name": "stdout",
     "output_type": "stream",
     "text": [
      "Warning: region id 0 already exists in region laye. Assign id 0 instead\n"
     ]
    },
    {
     "name": "stderr",
     "output_type": "stream",
     "text": [
      "100%|██████████| 10/10 [00:00<00:00, 10.95it/s]\n"
     ]
    }
   ],
   "source": [
    "%reload_ext autoreload\n",
    "import sys\n",
    "from importlib import reload\n",
    "\n",
    "# del sys.modules['scene_graph.scene_graph_cls'] \n",
    "from scene_graph import scene_graph_cls\n",
    "from scene_graph.config import SceneGraphHabitatConfig\n",
    "\n",
    "# intialize ground truth scene graph \n",
    "config = SceneGraphHabitatConfig()\n",
    "sg = scene_graph_cls.SceneGraphHabitat(config, scene_name=args.scene_name)\n",
    "sg.load_gt_scene_graph(args.scene_ply_path, args.pclseg_path, args.pcl_normals_path, sim) "
   ]
  },
  {
   "cell_type": "code",
   "execution_count": null,
   "metadata": {},
   "outputs": [],
   "source": [
    "# %reload_ext autoreload\n",
    "# from scene_graph.utils import visualize_scene_graph \n",
    "# ########### visualize loaded scene with bounding boxes ########################\n",
    "# if args.visualize:\n",
    "#     visualize_scene_graph(sg, free_space_vis=True, house_file_path=args.house_file_path)\n"
   ]
  },
  {
   "cell_type": "markdown",
   "metadata": {},
   "source": [
    "## Test the scene graph predcition generated by 3DSSG"
   ]
  },
  {
   "cell_type": "code",
   "execution_count": null,
   "metadata": {},
   "outputs": [],
   "source": [
    "from dataset.habitat.utils import read_house_file\n",
    "house_dict, meta_dict = read_house_file(args.house_file_path)"
   ]
  },
  {
   "cell_type": "code",
   "execution_count": null,
   "metadata": {},
   "outputs": [
    {
     "name": "stdout",
     "output_type": "stream",
     "text": [
      "==trainable parameters==\n",
      "obj_encoder 73976\n",
      "rel_encoder 42112\n",
      "gcn 5274368\n",
      "obj_predictor 399124\n",
      "rel_predictor 265225\n",
      "\n",
      "\n",
      "Loading CVPR21 model...\n",
      "\tNo checkpoints, but has saved best model. Load the best model\n",
      "\tmodel loaded!\n",
      "\n"
     ]
    }
   ],
   "source": [
    "############ extract GCN features by pretrained 3DSSG model \n",
    "feature_extractor = SceneGraphPredictor(args.rel_dist_thresh)\n",
    "object_nodes = [sg.object_layer.obj_dict[obj_id]\n",
    "    for obj_id in sg.object_layer.obj_ids]\n",
    "\n",
    "''' \n",
    "extractor returns a dictionary:  \n",
    "results={\n",
    "    \"pred_obj_prob\": pred_obj_prob, # (N, D) numpy array\n",
    "    \"pred_obj_confidence\": pred_obj_confidence, # (N,) numpy array\n",
    "    \"pred_obj_label\": pred_obj_label, # (N,) numpy array \n",
    "    \"edges\": edges, # (M,2) numpy array, represented by object index (not id!)\n",
    "    \"pred_rel_prob\": pred_rel_prob, # (M,2)\n",
    "    \"pred_rel_confidence\": pred_rel_confidence,\n",
    "    \"pred_rel_label\": pred_rel_label\n",
    "}\n",
    "'''\n",
    "# object center, bounding box, \n",
    "results = feature_extractor.predict(object_nodes)"
   ]
  },
  {
   "cell_type": "markdown",
   "metadata": {},
   "source": [
    "## Test object prediction accuracy "
   ]
  },
  {
   "cell_type": "code",
   "execution_count": null,
   "metadata": {},
   "outputs": [],
   "source": [
    "# load gt label mapping \n",
    "from SSG.utils.util_label import getLabelNameMapping, getLabelMapping\n",
    "from SSG.utils import define as ssg_def\n",
    "# 1. load mapping from scannet20 to nyu40 \n",
    "# since scannet 20 is a proper subset of nyu40, only mapping index works    \n",
    "getLabelMapping(\"scannet20\", ssg_def.LABEL_MAPPING_FILE)\n"
   ]
  }
 ],
 "metadata": {
  "interpreter": {
   "hash": "4238126d59c941adb14787c82112e8c82424098db0fbf30903ba0f71146f1492"
  },
  "kernelspec": {
   "display_name": "Python 3 (ipykernel)",
   "language": "python",
   "name": "python3"
  },
  "language_info": {
   "codemirror_mode": {
    "name": "ipython",
    "version": 3
   },
   "file_extension": ".py",
   "mimetype": "text/x-python",
   "name": "python",
   "nbconvert_exporter": "python",
   "pygments_lexer": "ipython3",
   "version": "3.8.10"
  }
 },
 "nbformat": 4,
 "nbformat_minor": 4
}
