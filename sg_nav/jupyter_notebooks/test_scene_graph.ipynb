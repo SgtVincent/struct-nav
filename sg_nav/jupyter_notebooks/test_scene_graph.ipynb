{
 "cells": [
  {
   "cell_type": "code",
   "execution_count": 1,
   "metadata": {},
   "outputs": [],
   "source": [
    "%load_ext autoreload\n",
    "%autoreload 2\n",
    "import argparse\n",
    "import os \n",
    "from habitat_sim.agent.controls.controls import SceneNodeControl\n",
    "import open3d as o3d\n",
    "import numpy as np\n",
    "from dataset.habitat.simulator import init_sim \n",
    "from plyfile import PlyData, PlyElement\n",
    "\n",
    "# local import \n",
    "from scene_graph.scene_graph_cls import SceneGraphHabitat\n",
    "from scene_graph.config import SceneGraphHabitatConfig\n",
    "from scene_graph.utils import visualize_scene_graph, getOBB\n",
    "from scene_graph.scene_graph_pred import SceneGraphPredictor\n",
    "\n",
    "def parse_args(input=\"\"):\n",
    "\n",
    "    parser = argparse.ArgumentParser()\n",
    "    parser.add_argument(\"--scan_dir\", type=str, default=\"/media/junting/SSD_data/habitat_data/scene_datasets/mp3d/v1/scans\")\n",
    "    parser.add_argument(\"--scene_name\", type=str, default=\"17DRP5sb8fy\")\n",
    "    parser.add_argument(\"--dataset\", type=str, default=\"matterport\")\n",
    "    \n",
    "    parser.add_argument(\"--visualize\", type=int, default=1)\n",
    "    parser.add_argument(\"--vis_mode\", type=str, default=\"segment\", choices=[\"rgb\", \"segment\"])\n",
    "    \n",
    "    parser.add_argument(\"--rel_dist_thresh\", type=float, default=2.0, help=\"threshold of max distance between two objects that could have a relationship\")\n",
    "\n",
    "    args = parser.parse_args(input)  \n",
    "    args.scene_ply_path = os.path.join(args.scan_dir, args.scene_name, f'{args.scene_name}_semantic.ply')\n",
    "    args.scene_glb_path = os.path.join(args.scan_dir, args.scene_name, f'{args.scene_name}.glb')\n",
    "    args.pclseg_path = os.path.join(args.scan_dir, args.scene_name, f'{args.scene_name}_pclseg.txt')\n",
    "    args.pcl_normals_path = os.path.join(args.scan_dir, args.scene_name, f'{args.scene_name}_normals.npy')\n",
    "    args.house_file_path = os.path.join(args.scan_dir, args.scene_name, f'{args.scene_name}.house')\n",
    "    return args \n",
    "\n",
    "\n"
   ]
  },
  {
   "cell_type": "code",
   "execution_count": 2,
   "metadata": {},
   "outputs": [],
   "source": [
    "args = parse_args()\n",
    "############ load ground truth pointclouds ####################\n",
    "# o3d_pcl = o3d.io.read_point_cloud(args.scene_ply_path) # only load vertices \n",
    "# scene = o3d.io.read_triangle_mesh(args.scene_ply_path) # load mesh file \\\n"
   ]
  },
  {
   "cell_type": "code",
   "execution_count": 3,
   "metadata": {},
   "outputs": [
    {
     "name": "stderr",
     "output_type": "stream",
     "text": [
      "WARNING: Logging before InitGoogleLogging() is written to STDERR\n",
      "I1125 15:49:39.141994 42515 ManagedFileBasedContainer.h:210] <Dataset>::convertFilenameToPassedExt : Filename : default changed to proposed scene_dataset_config.json filename : default.scene_dataset_config.json\n",
      "I1125 15:49:39.142017 42515 AttributesManagerBase.h:365] <Dataset>::createFromJsonOrDefaultInternal : Proposing JSON name : default.scene_dataset_config.json from original name : default | This file  does not exist.\n",
      "I1125 15:49:42.677098 42515 simulator.py:221] Loaded navmesh /media/junting/SSD_data/habitat_data/scene_datasets/mp3d/v1/scans/17DRP5sb8fy/17DRP5sb8fy.navmesh\n",
      "I1125 15:49:39.142112 42515 AssetAttributesManager.cpp:120] Asset attributes (capsule3DSolid : capsule3DSolid_hemiRings_4_cylRings_1_segments_12_halfLen_0.75_useTexCoords_false_useTangents_false) created and registered.\n",
      "I1125 15:49:39.142138 42515 AssetAttributesManager.cpp:120] Asset attributes (capsule3DWireframe : capsule3DWireframe_hemiRings_8_cylRings_1_segments_16_halfLen_1) created and registered.\n",
      "I1125 15:49:39.142160 42515 AssetAttributesManager.cpp:120] Asset attributes (coneSolid : coneSolid_segments_12_halfLen_1.25_rings_1_useTexCoords_false_useTangents_false_capEnd_true) created and registered.\n",
      "I1125 15:49:39.142174 42515 AssetAttributesManager.cpp:120] Asset attributes (coneWireframe : coneWireframe_segments_32_halfLen_1.25) created and registered.\n",
      "I1125 15:49:39.142181 42515 AssetAttributesManager.cpp:120] Asset attributes (cubeSolid : cubeSolid) created and registered.\n",
      "I1125 15:49:39.142187 42515 AssetAttributesManager.cpp:120] Asset attributes (cubeWireframe : cubeWireINFO - 2021-11-25 15:49:42,677 - simulator - I1125 15:49:42.677098 42515 simulator.py:221] Loaded navmesh /media/junting/SSD_data/habitat_data/scene_datasets/mp3d/v1/scans/17DRP5sb8fy/17DRP5sb8fy.navmesh\n"
     ]
    },
    {
     "name": "stdout",
     "output_type": "stream",
     "text": [
      "Renderer: GeForce RTX 3080/PCIe/SSE2 by NVIDIA Corporation\n",
      "OpenGL version: 4.6.0 NVIDIA 460.91.03\n",
      "Using optional features:\n",
      "    GL_ARB_vertex_array_object\n",
      "    GL_ARB_ES2_compatibility\n",
      "    GL_ARB_separate_shader_objects\n",
      "    GL_ARB_robustness\n",
      "    GL_ARB_texture_storage\n",
      "    GL_ARB_invalidate_subdata\n",
      "    GL_ARB_texture_storage_multisample\n",
      "    GL_ARB_multi_bind\n",
      "    GL_ARB_direct_state_access\n",
      "    GL_ARB_get_texture_sub_image\n",
      "    GL_ARB_texture_filter_anisotropic\n",
      "    GL_KHR_debug\n",
      "Using driver workarounds:\n",
      "    no-forward-compatible-core-context\n",
      "    no-layout-qualifiers-on-old-glsl\n",
      "    nv-zero-context-profile-mask\n",
      "    nv-implementation-color-read-format-dsa-broken\n",
      "    nv-cubemap-inconsistent-compressed-image-size\n",
      "    nv-cubemap-broken-full-compressed-image-query\n",
      "    nv-compressed-block-size-in-bits\n",
      "agent_state: position [0. 0. 0.] rotation quaternion(1, 0, 0, 0)\n",
      "sensor_states: {'rgb': SixDOFPose(position=array([0. , 1.5, 0. ], dtype=float32), rotation=quaternion(1, 0, 0, 0)), 'depth': SixDOFPose(position=array([0. , 1.5, 0. ], dtype=float32), rotation=quaternion(1, 0, 0, 0)), 'semantic': SixDOFPose(position=array([0. , 1.5, 0. ], dtype=float32), rotation=quaternion(1, 0, 0, 0))}\n"
     ]
    },
    {
     "name": "stderr",
     "output_type": "stream",
     "text": [
      "frame) created and registered.\n",
      "I1125 15:49:39.142204 42515 AssetAttributesManager.cpp:120] Asset attributes (cylinderSolid : cylinderSolid_rings_1_segments_12_halfLen_1_useTexCoords_false_useTangents_false_capEnds_true) created and registered.\n",
      "I1125 15:49:39.142220 42515 AssetAttributesManager.cpp:120] Asset attributes (cylinderWireframe : cylinderWireframe_rings_1_segments_32_halfLen_1) created and registered.\n",
      "I1125 15:49:39.142228 42515 AssetAttributesManager.cpp:120] Asset attributes (icosphereSolid : icosphereSolid_subdivs_1) created and registered.\n",
      "I1125 15:49:39.142235 42515 AssetAttributesManager.cpp:120] Asset attributes (icosphereWireframe : icosphereWireframe_subdivs_1) created and registered.\n",
      "I1125 15:49:39.142246 42515 AssetAttributesManager.cpp:120] Asset attributes (uvSphereSolid : uvSphereSolid_rings_8_segments_16_useTexCoords_false_useTangents_false) created and registered.\n",
      "I1125 15:49:39.142257 42515 AssetAttributesManager.cpp:120] Asset attributes (uvSphereWireframe : uvSphereWireframe_rings_16_segments_32) created and registered.\n",
      "I1125 15:49:39.142261 42515 AssetAttributesManager.cpp:108] ::constructor : Built default primitive asset templates : 12\n",
      "I1125 15:49:39.142632 42515 SceneDatasetAttributesManager.cpp:36] File (default) not found, so new default dataset attributes created and registered.\n",
      "I1125 15:49:39.142635 42515 MetadataMediator.cpp:127] ::createSceneDataset : Dataset default successfully created.\n",
      "I1125 15:49:39.142639 42515 AttributesManagerBase.h:365] <Physics Manager>::createFromJsonOrDefaultInternal : Proposing JSON name : ./data/default.physics_config.json from original name : ./data/default.physics_config.json | This file  does not exist.\n",
      "I1125 15:49:39.142649 42515 PhysicsAttributesManager.cpp:26] File (./data/default.physics_config.json) not found, so new default physics manager attributes created and registered.\n",
      "I1125 15:49:39.142652 42515 MetadataMediator.cpp:212] ::setActiveSceneDatasetName : Previous active dataset  changed to default successfully.\n",
      "I1125 15:49:39.142653 42515 MetadataMediator.cpp:183] ::setCurrPhysicsAttributesHandle : Old physics manager attributes  changed to ./data/default.physics_config.json successfully.\n",
      "I1125 15:49:39.142655 42515 MetadataMediator.cpp:68] ::setSimulatorConfiguration : Set new simulator config for scene/stage : /media/junting/SSD_data/habitat_data/scene_datasets/mp3d/v1/scans/17DRP5sb8fy/17DRP5sb8fy.glb and dataset : default which is currently active dataset.\n",
      "I1125 15:49:39.240226 42515 ManagedFileBasedContainer.h:210] <Scene Instance>::convertFilenameToPassedExt : Filename : /media/junting/SSD_data/habitat_data/scene_datasets/mp3d/v1/scans/17DRP5sb8fy/17DRP5sb8fy.glb changed to proposed scene_instance.json filename : /media/junting/SSD_data/habitat_data/scene_datasets/mp3d/v1/scans/17DRP5sb8fy/17DRP5sb8fy.scene_instance.json\n",
      "I1125 15:49:39.240382 42515 MetadataMediator.cpp:311] ::getSceneAttributesByName : Dataset : default has no preloaded SceneAttributes or StageAttributes named : /media/junting/SSD_data/habitat_data/scene_datasets/mp3d/v1/scans/17DRP5sb8fy/17DRP5sb8fy.glb so loading/creating a new StageAttributes with this name, and then creating a SceneAttributes with the same name that references this stage.\n",
      "I1125 15:49:39.240388 42515 ManagedFileBasedContainer.h:210] <Stage Template>::convertFilenameToPassedExt : Filename : /media/junting/SSD_data/habitat_data/scene_datasets/mp3d/v1/scans/17DRP5sb8fy/17DRP5sb8fy.glb changed to proposed stage_config.json filename : /media/junting/SSD_data/habitat_data/scene_datasets/mp3d/v1/scans/17DRP5sb8fy/17DRP5sb8fy.stage_config.json\n",
      "I1125 15:49:39.240432 42515 AttributesManagerBase.h:365] <Stage Template>::createFromJsonOrDefaultInternal : Proposing JSON name : /media/junting/SSD_data/habitat_data/scene_datasets/mp3d/v1/scans/17DRP5sb8fy/17DRP5sb8fy.stage_config.json from original name : /media/junting/SSD_data/habitat_data/scene_datasets/mp3d/v1/scans/17DRP5sb8fy/17DRP5sb8fy.glb | This file  does not exist.\n",
      "I1125 15:49:39.240696 42515 AbstractObjectAttributesManagerBase.h:183] File (/media/junting/SSD_data/habitat_data/scene_datasets/mp3d/v1/scans/17DRP5sb8fy/17DRP5sb8fy.glb) exists but is not a recognized config filename extension, so new default Stage Template attributes created and registered.\n",
      "I1125 15:49:39.240718 42515 SceneDatasetAttributes.cpp:45] ::addNewSceneInstanceToDataset : Dataset : 'default' : Stage Attributes '/media/junting/SSD_data/habitat_data/scene_datasets/mp3d/v1/scans/17DRP5sb8fy/17DRP5sb8fy.glb' specified in Scene Attributes exists in dataset library.\n",
      "I1125 15:49:39.240720 42515 SceneDatasetAttributes.cpp:79] ::addNewSceneInstanceToDataset : Dataset : 'default' : Lighting Layout Attributes 'no_lights' specified in Scene Attributes but does not exist in dataset, so creating.\n",
      "I1125 15:49:39.240722 42515 ManagedFileBasedContainer.h:210] <Lighting Layout>::convertFilenameToPassedExt : Filename : no_lights changed to proposed lighting_config.json filename : no_lights.lighting_config.json\n",
      "I1125 15:49:39.240725 42515 ManagedFileBasedContainer.h:210] <Lighting Layout>::convertFilenameToPassedExt : Filename : no_lights changed to proposed lighting_config.json filename : no_lights.lighting_config.json\n",
      "I1125 15:49:39.240727 42515 AttributesManagerBase.h:365] <Lighting Layout>::createFromJsonOrDefaultInternal : Proposing JSON name : no_lights.lighting_config.json from original name : no_lights | This file  does not exist.\n",
      "I1125 15:49:39.240736 42515 LightLayoutAttributesManager.cpp:34] File (no_lights) not found, so new default light layout attributes created and registered.\n",
      "I1125 15:49:39.240739 42515 Simulator.cpp:206] ::setSceneInstanceAttributes : Navmesh file location in scene instance : /media/junting/SSD_data/habitat_data/scene_datasets/mp3d/v1/scans/17DRP5sb8fy/17DRP5sb8fy.navmesh\n",
      "I1125 15:49:39.240779 42515 Simulator.cpp:213] ::setSceneInstanceAttributes : Loading navmesh from /media/junting/SSD_data/habitat_data/scene_datasets/mp3d/v1/scans/17DRP5sb8fy/17DRP5sb8fy.navmesh\n",
      "I1125 15:49:39.240885 42515 Simulator.cpp:216] ::setSceneInstanceAttributes : Navmesh Loaded.\n",
      "I1125 15:49:39.240895 42515 SceneGraph.h:85] Created DrawableGroup: \n",
      "I1125 15:49:39.240900 42515 Simulator.cpp:251] ::setSceneInstanceAttributes : SceneInstance : /media/junting/SSD_data/habitat_data/scene_datasets/mp3d/v1/scans/17DRP5sb8fy/17DRP5sb8fy.glb proposed Semantic Scene Descriptor filename : /media/junting/SSD_data/habitat_data/scene_datasets/mp3d/v1/scans/17DRP5sb8fy/17DRP5sb8fy.house\n",
      "W1125 15:49:39.260082 42515 Simulator.cpp:275] ::setSceneInstanceAttributes : All attempts to load SSD with SceneAttributes-provided name /media/junting/SSD_data/habitat_data/scene_datasets/mp3d/v1/scans/17DRP5sb8fy/17DRP5sb8fy.house : exist : 0 : loaded as expected type : 1\n",
      "I1125 15:49:39.260293 42515 Simulator.cpp:324] ::createSceneInstance : Using scene instance-specified Light key : -no_lights-\n",
      "I1125 15:49:39.260299 42515 MetadataMediator.cpp:68] ::setSimulatorConfiguration : Set new simulator config for scene/stage : /media/junting/SSD_data/habitat_data/scene_datasets/mp3d/v1/scans/17DRP5sb8fy/17DRP5sb8fy.glb and dataset : default which is currently active dataset.\n",
      "I1125 15:49:39.260318 42515 Simulator.cpp:382] ::createSceneInstance : Start to load stage named : /media/junting/SSD_data/habitat_data/scene_datasets/mp3d/v1/scans/17DRP5sb8fy/17DRP5sb8fy.glb with render asset : /media/junting/SSD_data/habitat_data/scene_datasets/mp3d/v1/scans/17DRP5sb8fy/17DRP5sb8fy.glb and collision asset : /media/junting/SSD_data/habitat_data/scene_datasets/mp3d/v1/scans/17DRP5sb8fy/17DRP5sb8fy.glb\n",
      "I1125 15:49:39.260399 42515 ResourceManager.cpp:217] ::loadStage : Loading Semantic Stage mesh : /media/junting/SSD_data/habitat_data/scene_datasets/mp3d/v1/scans/17DRP5sb8fy/17DRP5sb8fy_semantic.ply\n",
      "I1125 15:49:39.260403 42515 SceneGraph.h:85] Created DrawableGroup: \n",
      "I1125 15:49:39.260406 42515 ResourceManager.cpp:699] ::loadStageInternal : Attempting to load stage /media/junting/SSD_data/habitat_data/scene_datasets/mp3d/v1/scans/17DRP5sb8fy/17DRP5sb8fy_semantic.ply \n",
      "I1125 15:49:42.078727 42515 ResourceManager.cpp:248] ::loadStage : Semantic Stage mesh : /media/junting/SSD_data/habitat_data/scene_datasets/mp3d/v1/scans/17DRP5sb8fy/17DRP5sb8fy_semantic.ply loaded.\n",
      "I1125 15:49:42.078740 42515 ResourceManager.cpp:285] ::loadStage : start load render asset /media/junting/SSD_data/habitat_data/scene_datasets/mp3d/v1/scans/17DRP5sb8fy/17DRP5sb8fy.glb.\n",
      "I1125 15:49:42.078742 42515 ResourceManager.cpp:699] ::loadStageInternal : Attempting to load stage /media/junting/SSD_data/habitat_data/scene_datasets/mp3d/v1/scans/17DRP5sb8fy/17DRP5sb8fy.glb \n",
      "I1125 15:49:42.078909 42515 ResourceManager.cpp:1280] Importing Basis files as BC7 for 17DRP5sb8fy.glb\n",
      "I1125 15:49:42.676241 42515 Simulator.cpp:400] ::createSceneInstance : Successfully loaded stage named : /media/junting/SSD_data/habitat_data/scene_datasets/mp3d/v1/scans/17DRP5sb8fy/17DRP5sb8fy.glb\n",
      "I1125 15:49:42.676255 42515 MetadataMediator.cpp:262] ::getSceneAttributesByName : Query dataset : default for SceneAttributes named : /media/junting/SSD_data/habitat_data/scene_datasets/mp3d/v1/scans/17DRP5sb8fy/17DRP5sb8fy.glb yields 1 candidates.  Using /media/junting/SSD_data/habitat_data/scene_datasets/mp3d/v1/scans/17DRP5sb8fy/17DRP5sb8fy.glb.\n",
      "I1125 15:49:42.676263 42515 SceneDatasetAttributes.cpp:45] ::addNewSceneInstanceToDataset : Dataset : 'default' : Stage Attributes '/media/junting/SSD_data/habitat_data/scene_datasets/mp3d/v1/scans/17DRP5sb8fy/17DRP5sb8fy.glb' specified in Scene Attributes exists in dataset library.\n",
      "I1125 15:49:42.676265 42515 SceneDatasetAttributes.cpp:85] ::addNewSceneInstanceToDataset : Dataset : 'default' : Lighting Layout Attributes no_lights specified in Scene Attributes exists in dataset library.\n",
      "I1125 15:49:42.676271 42515 MetadataMediator.cpp:262] ::getSceneAttributesByName : Query dataset : default for SceneAttributes named : /media/junting/SSD_data/habitat_data/scene_datasets/mp3d/v1/scans/17DRP5sb8fy/17DRP5sb8fy.glb yields 1 candidates.  Using /media/junting/SSD_data/habitat_data/scene_datasets/mp3d/v1/scans/17DRP5sb8fy/17DRP5sb8fy.glb.\n",
      "I1125 15:49:42.676275 42515 SceneDatasetAttributes.cpp:45] ::addNewSceneInstanceToDataset : Dataset : 'default' : Stage Attributes '/media/junting/SSD_data/habitat_data/scene_datasets/mp3d/v1/scans/17DRP5sb8fy/17DRP5sb8fy.glb' specified in Scene Attributes exists in dataset library.\n",
      "I1125 15:49:42.676275 42515 SceneDatasetAttributes.cpp:85] ::addNewSceneInstanceToDataset : Dataset : 'default' : Lighting Layout Attributes no_lights specified in Scene Attributes exists in dataset library.\n",
      "I1125 15:49:42.676290 42515 Simulator.cpp:182] Simulator::reconfigure() : createSceneInstance success == true for active scene name : /media/junting/SSD_data/habitat_data/scene_datasets/mp3d/v1/scans/17DRP5sb8fy/17DRP5sb8fy.glb with renderer.\n"
     ]
    }
   ],
   "source": [
    "############ initialize habitat simulator and ground truth scene graph ########\n",
    "sim, action_names, sim_settings = init_sim(args.scene_glb_path)"
   ]
  },
  {
   "cell_type": "code",
   "execution_count": 4,
   "metadata": {},
   "outputs": [
    {
     "name": "stderr",
     "output_type": "stream",
     "text": [
      " 10%|█         | 1/10 [00:00<00:01,  8.78it/s]"
     ]
    },
    {
     "name": "stdout",
     "output_type": "stream",
     "text": [
      "Warning: region id 0 already exists in region laye. Assign id 0 instead\n"
     ]
    },
    {
     "name": "stderr",
     "output_type": "stream",
     "text": [
      "100%|██████████| 10/10 [00:00<00:00, 10.95it/s]\n"
     ]
    }
   ],
   "source": [
    "%reload_ext autoreload\n",
    "import sys\n",
    "from importlib import reload\n",
    "\n",
    "# del sys.modules['scene_graph.scene_graph_cls'] \n",
    "from scene_graph import scene_graph_cls\n",
    "from scene_graph.config import SceneGraphHabitatConfig\n",
    "\n",
    "# intialize ground truth scene graph \n",
    "config = SceneGraphHabitatConfig()\n",
    "sg = scene_graph_cls.SceneGraphHabitat(config, scene_name=args.scene_name)\n",
    "sg.load_gt_scene_graph(args.scene_ply_path, args.pclseg_path, args.pcl_normals_path, sim) "
   ]
  },
  {
   "cell_type": "code",
   "execution_count": 6,
   "metadata": {},
   "outputs": [],
   "source": [
    "%reload_ext autoreload\n",
    "from scene_graph.utils import visualize_scene_graph \n",
    "########### visualize loaded scene with bounding boxes ########################\n",
    "if args.visualize:\n",
    "    visualize_scene_graph(sg, free_space_vis=True, house_file_path=args.house_file_path)\n"
   ]
  },
  {
   "cell_type": "markdown",
   "metadata": {},
   "source": [
    "## Test the trasnsformation from habitat to mp3d"
   ]
  },
  {
   "cell_type": "code",
   "execution_count": 5,
   "metadata": {},
   "outputs": [
    {
     "name": "stdout",
     "output_type": "stream",
     "text": [
      "Region 0 Center: [-8.821845   1.2594094 -2.691538 ]\n",
      "Region 0 Sizes: [4.163309  2.5356622 4.2073426]\n"
     ]
    }
   ],
   "source": [
    "####### check scene graph ###############\n",
    "print('Region 0 Center: {}'.format(sim.semantic_scene.regions[0].aabb.center))\n",
    "print('Region 0 Sizes: {}'.format(sim.semantic_scene.regions[0].aabb.sizes))"
   ]
  },
  {
   "cell_type": "code",
   "execution_count": 6,
   "metadata": {},
   "outputs": [],
   "source": [
    "from dataset.habitat.utils import read_house_file\n",
    "house_dict, meta_dict = read_house_file(args.house_file_path)"
   ]
  },
  {
   "cell_type": "code",
   "execution_count": 30,
   "metadata": {},
   "outputs": [
    {
     "name": "stdout",
     "output_type": "stream",
     "text": [
      "[[ 1.0000000e+00  0.0000000e+00  0.0000000e+00]\n",
      " [ 0.0000000e+00 -1.0000000e+00 -4.4408921e-16]\n",
      " [ 0.0000000e+00  4.4408921e-16 -1.0000000e+00]]\n"
     ]
    }
   ],
   "source": [
    "######## calculate full rotation between habitat and mp3d #########\n",
    "from scipy.spatial.transform import Rotation as R\n",
    "from habitat_sim.utils.common import quat_from_two_vectors, quat_to_coeffs\n",
    "import quaternion as qt\n",
    "\n",
    "'''\n",
    "# definitions from habitat \n",
    "static const vec3f ESP_UP = vec3f::UnitY();\n",
    "//! global/world gravity (down) direction\n",
    "static const vec3f ESP_GRAVITY = -ESP_UP;\n",
    "//! global/world front direction\n",
    "static const vec3f ESP_FRONT = -vec3f::UnitZ();\n",
    "//! global/world back direction\n",
    "static const vec3f ESP_BACK = -ESP_FRONT;\n",
    "...\n",
    "const quatf alignGravity = quatf::FromTwoVectors(-vec3f::UnitZ(), ESP_GRAVITY);\n",
    "const quatf alignFront = quatf::FromTwoVectors(-vec3f::UnitX(), ESP_FRONT);\n",
    "const quatf& rotation = alignFront * alignGravity;\n",
    "'''\n",
    "\n",
    "quat_alignGravity = quat_from_two_vectors(np.array([0, 0, -1]), np.array([0, -1, 0]))\n",
    "quat_test = quat_from_two_vectors(np.array([0, -1, 0]), np.array([0, 0, -1]))\n",
    "# quat_alignFront = quat_from_two_vectors(np.array([-1, 0, 0]), np.array([0, 0, -1]))\n",
    "# quat_m2h = quat_alignFront * quat_alignGravity\n",
    "# r_m2h = qt.as_rotation_matrix(quat_m2h)\n",
    "r_m2h = qt.as_rotation_matrix(quat_alignGravity)\n",
    "r_h2m = np.linalg.inv(r_m2h)\n",
    "print(r_h2m @ qt.as_rotation_matrix(quat_test))"
   ]
  },
  {
   "cell_type": "code",
   "execution_count": 26,
   "metadata": {},
   "outputs": [
    {
     "name": "stdout",
     "output_type": "stream",
     "text": [
      "house annotation: region id 0, label b\n",
      "[-8.821845    1.25940913 -2.6915385 ]\n",
      "[4.16331    2.53566175 4.207343  ]\n"
     ]
    }
   ],
   "source": [
    "###################### test region bbox coords transformation ####################\n",
    "# region_dict = house_dict['R'][0]\n",
    "# print(f\"house annotation: region id {region_dict['region_index']}, label {region_dict['label']}\")\n",
    "\n",
    "# target_habitat_center = np.array([-8.82185,1.25941,-2.69154])\n",
    "# center = np.array([\n",
    "#     (float(region_dict['xhi']) + float(region_dict['xlo']))/2.,\n",
    "#     (float(region_dict['yhi']) + float(region_dict['ylo']))/2.,\n",
    "#     (float(region_dict['zhi']) + float(region_dict['zlo']))/2.,\n",
    "# ])\n",
    "# sizes = np.array([\n",
    "#     float(region_dict['xhi']) - float(region_dict['xlo']),\n",
    "#     float(region_dict['yhi']) - float(region_dict['ylo']),\n",
    "#     float(region_dict['zhi']) - float(region_dict['zlo']),\n",
    "# ])\n",
    "# print(r_m2h @ center)\n",
    "# print(np.abs(r_m2h @ sizes) )"
   ]
  },
  {
   "cell_type": "code",
   "execution_count": 53,
   "metadata": {},
   "outputs": [
    {
     "name": "stdout",
     "output_type": "stream",
     "text": [
      "house annotation: object id 0, label 0\n"
     ]
    }
   ],
   "source": [
    "###################### test object bbox coords transformation ####################\n",
    "vis_box_list = []\n",
    "axis_pcd = o3d.geometry.TriangleMesh.create_coordinate_frame(size=5, origin=[0, 0, 0])\n",
    "vis_box_list.append(axis_pcd)\n",
    "\n",
    "# ground truth bounding box from .house  \n",
    "object_dict = house_dict['O'][0]\n",
    "print(f\"house annotation: object id {object_dict['object_index']}, label {object_dict['category_index']}\")\n",
    "center, sizes, r_mat = getOBB(object_dict)\n",
    "house_object_obb = o3d.geometry.OrientedBoundingBox(center, r_mat, sizes)\n",
    "house_object_obb.color = (1,0,1) # gt: purple \n",
    "# house_object_obb.rotate(r_m2h)\n",
    "vis_box_list.append(house_object_obb)\n",
    "\n",
    "# bounding box from habitat \n",
    "object_node = sim.semantic_scene.objects[0]\n",
    "habitat_object_obb = o3d.geometry.OrientedBoundingBox(\n",
    "    object_node.obb.center,\n",
    "    R.from_quat(object_node.obb.rotation).as_matrix(),\n",
    "    object_node.obb.sizes\n",
    ")\n",
    "habitat_object_obb.rotate(r_h2m, (0,0,0))\n",
    "habitat_object_obb.color = (0,1,0)\n",
    "vis_box_list.append(habitat_object_obb)\n",
    "\n",
    "o3d.visualization.draw_geometries(vis_box_list)"
   ]
  },
  {
   "cell_type": "code",
   "execution_count": 36,
   "metadata": {},
   "outputs": [],
   "source": [
    "########## try to get all translations of regions bbox \n",
    "translations = []\n",
    "habitat_region_inverse_mapping = {int(r.id.split(\"_\")[-1]):r for r in sim.semantic_scene.regions}\n",
    "for region_dict in house_dict['R']:\n",
    "    size_x = float(region_dict['xhi']) - float(region_dict['xlo'])\n",
    "    size_y = float(region_dict['yhi']) - float(region_dict['ylo'])\n",
    "    size_z = float(region_dict['zhi']) - float(region_dict['zlo'])\n",
    "    position = np.array([float(region_dict['px']), float(region_dict['py']), float(region_dict['pz'])])\n",
    "    center = np.array([\n",
    "        (float(region_dict['xhi']) + float(region_dict['xlo']))/2,\n",
    "        (float(region_dict['yhi']) + float(region_dict['ylo']))/2,\n",
    "        (float(region_dict['zhi']) + float(region_dict['zlo']))/2,\n",
    "    ])\n",
    "    region_idx = int(region_dict['region_index'])\n",
    "    # print(f\"house annotation: region id {region_idx}, label {region_dict['label']}: difference between position and center is {center-position}\")\n",
    "    sizes = np.array([size_x, size_y, size_z])\n",
    "\n",
    "    habitat_region = habitat_region_inverse_mapping[region_idx]\n",
    "    # t = center @ r_m2h - habitat_region.aabb.center \n",
    "    t = r_h2m @ habitat_region.aabb.center - center  \n",
    "    # print(f\"From .house, region id {region_idx}, label {region_dict['label']}; \\\n",
    "    #     From habitat, region id {habitat_region.id.split('_')[-1]}, label {habitat_region.category}, translation {t}\")\n",
    "\n",
    "    translations.append(t)\n",
    "    # break # test one region \n",
    "print(translations)"
   ]
  },
  {
   "cell_type": "markdown",
   "metadata": {},
   "source": [
    "## Test free space grid points "
   ]
  },
  {
   "cell_type": "code",
   "execution_count": 15,
   "metadata": {},
   "outputs": [
    {
     "data": {
      "text/plain": [
       "<matplotlib.image.AxesImage at 0x7f412ac20070>"
      ]
     },
     "execution_count": 15,
     "metadata": {},
     "output_type": "execute_result"
    },
    {
     "data": {
      "image/png": "[encoded data removed]",
      "text/plain": [
       "<Figure size 432x288 with 1 Axes>"
      ]
     },
     "metadata": {
      "needs_background": "light"
     },
     "output_type": "display_data"
    }
   ],
   "source": [
    "######\n",
    "from scene_graph.utils import grid_xz_to_points\n",
    "import matplotlib.pyplot as plt \n",
    "\n",
    "segment_grid = sg.region_layer.segment_grid\n",
    "# convert grid to index array and label array \n",
    "idx_list = [[i,j] for i in range(segment_grid.shape[0]-1)\n",
    "    for j in range(segment_grid.shape[1]-1)]\n",
    "seg_arr = np.array([segment_grid[idx[0], idx[1]] for idx in idx_list])\n",
    "idx_arr = np.array(idx_list)\n",
    "\n",
    "free_space_points = grid_xz_to_points(sg.scene_bounds, idx_arr, \n",
    "    sg.height - 0.5, sg.meters_per_grid)\n",
    "\n",
    "plt.imshow(segment_grid)\n",
    "\n",
    "# free_space_o3d = o3d.geometry.PointCloud()\n",
    "# free_space_o3d.points = o3d.utility.Vector3dVector(free_space_points)\n",
    "# max_label = seg_arr.max()\n",
    "# colors = plt.get_cmap(pcl_color_map)( seg_arr/ (max_label+1))\n",
    "# free_space_o3d.colors = o3d.utility.Vector3dVector(colors[:,:3])\n",
    "# if mp3d_coord:\n",
    "#     free_space_o3d.rotate(r_h2m, (0,0,0))\n",
    "\n",
    "# o3d_vis_list.append(free_space_o3d)"
   ]
  },
  {
   "cell_type": "markdown",
   "metadata": {},
   "source": [
    "## Test feature extractor "
   ]
  },
  {
   "cell_type": "code",
   "execution_count": 17,
   "metadata": {},
   "outputs": [
    {
     "name": "stdout",
     "output_type": "stream",
     "text": [
      "==trainable parameters==\n",
      "obj_encoder 73976\n",
      "rel_encoder 42112\n",
      "gcn 5274368\n",
      "obj_predictor 399124\n",
      "rel_predictor 265225\n",
      "\n",
      "\n",
      "Loading CVPR21 model...\n",
      "\tNo checkpoints, but has saved best model. Load the best model\n",
      "\tmodel loaded!\n",
      "\n"
     ]
    }
   ],
   "source": [
    "############ extract GCN features by pretrained 3DSSG model \n",
    "feature_extractor = SceneGraphPredictor(args.rel_dist_thresh)\n",
    "object_nodes = [sg.object_layer.obj_dict[obj_id]\n",
    "    for obj_id in sg.object_layer.obj_ids]\n",
    "\n",
    "''' \n",
    "extractor returns a dictionary:  \n",
    "results={\n",
    "    \"pred_obj_prob\": pred_obj_prob, # (N, D) numpy array\n",
    "    \"pred_obj_confidence\": pred_obj_confidence, # (N,) numpy array\n",
    "    \"pred_obj_label\": pred_obj_label, # (N,) numpy array \n",
    "    \"edges\": edges, # (M,2) numpy array, represented by object index (not id!)\n",
    "    \"pred_rel_prob\": pred_rel_prob, # (M,2)\n",
    "    \"pred_rel_confidence\": pred_rel_confidence,\n",
    "    \"pred_rel_label\": pred_rel_label\n",
    "}\n",
    "'''\n",
    "# object center, bounding box, \n",
    "results = feature_extractor.predict(object_nodes)"
   ]
  },
  {
   "cell_type": "code",
   "execution_count": 18,
   "metadata": {},
   "outputs": [
    {
     "data": {
      "text/plain": [
       "{'pred_obj_prob': array([[5.43670632e-13, 3.33392369e-10, 8.52218018e-10, ...,\n",
       "         1.08563896e-11, 9.99996245e-01, 3.79491744e-10],\n",
       "        [7.21649606e-12, 8.85670701e-08, 2.43640965e-08, ...,\n",
       "         1.58955384e-11, 1.45906262e-04, 2.38754155e-11],\n",
       "        [2.32389084e-07, 9.85909355e-05, 1.85561902e-03, ...,\n",
       "         1.31092647e-05, 6.37336983e-04, 1.45647309e-05],\n",
       "        ...,\n",
       "        [2.91040803e-10, 9.59892259e-06, 3.90241039e-09, ...,\n",
       "         2.61893233e-11, 5.38739641e-07, 2.74338530e-09],\n",
       "        [8.94456384e-11, 1.13625936e-06, 2.24814833e-10, ...,\n",
       "         5.97160071e-13, 2.24554375e-09, 3.50562579e-09],\n",
       "        [1.00515835e-13, 1.27256099e-08, 4.97972535e-04, ...,\n",
       "         1.70886072e-09, 2.65248518e-10, 1.41304758e-04]], dtype=float32),\n",
       " 'pred_obj_confidence': tensor([1.0000, 0.5023, 0.6417, 0.3752, 0.3039, 0.9756, 0.8422, 1.0000, 0.9376,\n",
       "         0.9999, 1.0000, 0.6242, 0.9764, 0.7498, 0.9940, 0.9488, 0.9517, 1.0000,\n",
       "         0.9996, 0.6939, 0.9977, 0.9682, 0.9999, 0.9848, 0.9742, 0.8272, 0.3093,\n",
       "         0.9743, 0.5978, 0.9782, 0.8893, 0.9974, 0.9933, 0.6102, 0.9963, 0.9999,\n",
       "         0.8492, 0.9916, 0.8103, 0.9202, 0.9588, 0.9449, 0.9762, 0.7897, 1.0000,\n",
       "         1.0000, 0.9992, 1.0000, 0.8363, 0.6243, 0.8886, 0.9998, 0.5315, 0.7255,\n",
       "         0.9922, 0.8728, 0.7939, 0.9987, 0.6835, 0.5954, 0.6633, 0.9440, 0.9526,\n",
       "         0.9346, 0.8852, 0.6498, 0.9036, 0.6422, 0.9985, 0.5025, 0.9990, 0.9628,\n",
       "         0.7791, 0.9992, 0.9992, 0.6889, 0.9990, 0.9843, 0.9992, 1.0000, 0.3956,\n",
       "         0.9560, 0.9999, 0.9553, 0.8744, 0.4147, 0.9211, 0.9999, 0.9881, 0.5794,\n",
       "         0.6182, 0.9785, 0.8693, 0.6473, 0.5409, 0.9998, 0.9596, 1.0000, 0.5434,\n",
       "         1.0000, 0.9993, 0.9974, 1.0000, 0.9997, 1.0000, 1.0000, 0.9919, 1.0000,\n",
       "         1.0000, 0.9379, 1.0000, 1.0000, 1.0000, 0.9716, 0.7993, 0.6616, 0.9622,\n",
       "         0.7248, 1.0000, 1.0000, 0.5884, 0.4116, 0.7009, 1.0000, 0.9998, 1.0000,\n",
       "         0.9970, 0.7618, 1.0000, 0.9983, 0.8200, 0.9955, 0.9891, 0.8357, 0.9945,\n",
       "         0.9998, 0.7856, 0.8819, 0.9297, 0.9989, 1.0000, 1.0000, 1.0000, 0.9842,\n",
       "         0.6048, 0.9987, 0.9514, 0.9064, 1.0000, 0.9880, 0.9989, 0.5239, 0.7671,\n",
       "         0.4059, 0.5865, 0.9408, 0.8362, 1.0000, 0.9929, 0.8156, 0.6437, 0.9950,\n",
       "         0.9133, 0.6869, 0.7601, 0.9998, 0.9983, 0.9977, 1.0000, 1.0000, 0.9677,\n",
       "         0.9972, 0.9241, 0.9498, 0.7480, 0.8833, 0.9879, 0.8956, 0.9578, 0.9652,\n",
       "         1.0000, 1.0000, 0.9996, 0.7202, 0.7755, 1.0000, 0.5015]),\n",
       " 'pred_obj_label': array([18, 16,  3, 16,  5,  4,  2,  4,  4,  4,  4, 10, 10,  4,  6,  4,  6,\n",
       "         4,  4,  6,  4,  4,  9,  3, 12, 16, 10,  4, 18, 16,  2,  3,  2, 10,\n",
       "         3,  2, 12,  3,  4,  4,  4, 12, 12, 10,  2,  2,  2,  2, 10, 18,  5,\n",
       "         9, 16,  5, 10,  3,  4,  4,  3, 16,  3,  4, 18,  3, 16, 16,  3,  3,\n",
       "         4,  4,  2,  4,  3, 10,  4,  3,  2, 10,  2,  2, 10,  1, 18,  3,  3,\n",
       "        10, 18,  3,  3,  4, 16, 19,  4,  4, 10, 18,  3,  4,  3,  4,  4,  3,\n",
       "         4,  4,  4,  4,  3,  4,  4,  2,  4,  4,  4, 18,  3, 10, 12,  8, 18,\n",
       "         9, 10,  8, 18, 18,  4, 18, 16, 12,  4,  3,  4,  4,  4,  4,  2,  2,\n",
       "        16, 16,  2,  4,  4,  4,  4,  4,  4,  3, 12,  2,  4,  4,  2,  4, 16,\n",
       "         5,  9, 18, 16,  4,  4, 18,  1, 10,  7,  3, 18,  4,  3,  4,  4,  4,\n",
       "        10, 18, 16,  5, 16, 16,  5,  5,  5, 16,  4,  4,  4,  7, 16,  5, 16]),\n",
       " 'edges': array([[  0,   1],\n",
       "        [  0,   2],\n",
       "        [  0,   4],\n",
       "        ...,\n",
       "        [186, 183],\n",
       "        [186, 184],\n",
       "        [186, 185]]),\n",
       " 'pred_rel_prob': array([[3.96946575e-15, 5.05550953e-17, 1.69016700e-20, ...,\n",
       "         1.23725631e-19, 3.29380451e-15, 9.99999106e-01],\n",
       "        [1.08146218e-11, 7.44381736e-18, 2.15907090e-19, ...,\n",
       "         5.54310007e-17, 3.26247953e-15, 9.99999881e-01],\n",
       "        [2.41928597e-15, 1.08232555e-17, 5.96717400e-16, ...,\n",
       "         7.10425125e-15, 2.57170641e-13, 9.99999762e-01],\n",
       "        ...,\n",
       "        [3.80426695e-06, 1.33134259e-08, 9.31271033e-12, ...,\n",
       "         8.46275210e-01, 1.26838575e-08, 1.53720886e-01],\n",
       "        [6.20000926e-11, 5.25154000e-08, 1.10592796e-12, ...,\n",
       "         5.44578826e-09, 2.06939845e-07, 9.89567161e-01],\n",
       "        [9.06071662e-09, 3.64764530e-09, 4.72369279e-12, ...,\n",
       "         3.77904125e-10, 2.05386613e-07, 3.74130718e-02]], dtype=float32),\n",
       " 'pred_rel_confidence': tensor([1.0000, 1.0000, 1.0000,  ..., 0.8463, 0.9896, 0.9626]),\n",
       " 'pred_rel_label': array([8, 8, 8, ..., 6, 8, 5])}"
      ]
     },
     "execution_count": 18,
     "metadata": {},
     "output_type": "execute_result"
    }
   ],
   "source": [
    "results"
   ]
  }
 ],
 "metadata": {
  "interpreter": {
   "hash": "4238126d59c941adb14787c82112e8c82424098db0fbf30903ba0f71146f1492"
  },
  "kernelspec": {
   "display_name": "Python 3 (ipykernel)",
   "language": "python",
   "name": "python3"
  },
  "language_info": {
   "codemirror_mode": {
    "name": "ipython",
    "version": 3
   },
   "file_extension": ".py",
   "mimetype": "text/x-python",
   "name": "python",
   "nbconvert_exporter": "python",
   "pygments_lexer": "ipython3",
   "version": "3.8.10"
  }
 },
 "nbformat": 4,
 "nbformat_minor": 4
}
