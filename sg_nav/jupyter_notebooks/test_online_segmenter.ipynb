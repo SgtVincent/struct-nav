{
 "cells": [
  {
   "cell_type": "code",
   "execution_count": 1,
   "id": "e1fc34e7",
   "metadata": {},
   "outputs": [],
   "source": [
    "import open3d as o3d \n",
    "import numpy as np \n",
    "from plyfile import PlyData, PlyElement"
   ]
  },
  {
   "cell_type": "code",
   "execution_count": 2,
   "id": "a3813cdd",
   "metadata": {},
   "outputs": [],
   "source": [
    "# habitat \n",
    "import habitat_sim\n",
    "from dataset.habitat.simulator import init_sim, make_cfg"
   ]
  },
  {
   "cell_type": "code",
   "execution_count": 3,
   "id": "4dac06e9",
   "metadata": {},
   "outputs": [
    {
     "name": "stderr",
     "output_type": "stream",
     "text": [
      "WARNING: Logging before InitGoogleLogging() is written to STDERR\n",
      "I1120 09:20:25.175065 703534 ManagedFileBasedContainer.h:210] <Dataset>::convertFilenameToPassedExt : Filename : default changed to proposed scene_dataset_config.json filename : default.scene_dataset_config.json\n",
      "I1120 09:20:25.175084 703534 AttributesManagerBase.h:365] <Dataset>::createFromJsonOrDefaultInternal : Proposing JSON name : default.scene_dataset_config.json from original name : default | This file  does not exist.\n",
      "I1120 09:20:25.175132 703534 AssetAttributesManager.cpp:120] Asset attributes (capsule3DSolid : capsule3DSolid_hemiRings_4_cylRings_1_segments_12_halfLen_0.75_useTexCoords_false_useTangents_false) created and registered.\n",
      "I1120 09:20:25.175154 703534 AssetAttributesManager.cpp:120] Asset attributes (capsule3DWireframe : capsule3DWireframe_hemiRings_8_cylRings_1_segments_16_halfLen_1) created and registered.\n",
      "I1120 09:20:25.175175 703534 AssetAttributesManager.cpp:120] Asset attributes (coneSolid : coneSolid_segments_12_halfLen_1.25_rings_1_useTexCoords_false_useTangents_false_capEnd_true) created and registered.\n",
      "I1120 09:20:25.175189 703534 AssetAttributesManager.cpp:120] Asset attributes (coneWireframe : coneWireframe_segments_32_halfLen_1.25) created and registered.\n",
      "I1120 09:20:25.175194 703534 AssetAttributesManager.cpp:120] Asset attributes (cubeSolid : cubeSolid) created and registered.\n",
      "I1120 09:20:25.175200 703534 AssetAttributesManager.cpp:120] Asset attributes (cubeWireframe : cubeWireframe) created and registered.\n",
      "I1120 09:20:25.175217 703534 AssetAttributesManager.cpp:120] Asset attributes (cylinderSolid : cylinderSolid_rings_1_segments_12_halfLen_1_useTexCoords_false_useTangents_false_capEnds_true) created and registered.\n",
      "I1120 09:20:25.175232 703534 AssetAttributesManager.cpp:120] Asset attributes (cylinderWireframe : cylinderWireframe_rings_1_segments_32_halfLen_1) created and registered.\n",
      "I1120 09:20:25.175240 703534 AssetAttributesManager.cpp:120] Asset attributes (icosphereSolid : icosphereSolid_subdivs_1) created and registered.\n",
      "I1120 09:20:25.175247 703534 AssetAttributesManager.cpp:120] Asset attributes (icosphereWireframe : icosphereWireframe_subdivs_1) created and registered.\n",
      "I1120 09:20:25.175259 703534 AssetAttributesManager.cpp:120] Asset attributes (uvSphereSolid : uvSphereSolid_rings_8_segments_16_useTexCoords_false_useTangents_false) created and registered.\n",
      "I1120 09:20:25.175269 703534 AssetAttributesManager.cpp:120] Asset attributes (uvSphereWireframe : uvSphereWireframe_rings_16_segments_32) created and registered.\n",
      "I1120 09:20:25.175274 703534 AssetAttributesManager.cpp:108] ::constructor : Built default primitive asset templates : 12\n",
      "I1120 09:20:25.175643 703534 SceneDatasetAttributesManager.cpp:36] File (default) not found, so new default dataset attributes created and registered.\n",
      "I1120 09:20:25.175647 703534 MetadataMediator.cpp:127] ::createSceneDataset : Dataset default successfully created.\n",
      "I1120 09:20:25.175650 703534 AttributesManagerBase.h:365] <Physics Manager>::createFromJsonOrDefaultInternal : Proposing JSON name : ./data/default.physics_config.json from original name : ./data/default.physics_config.json | This file  does not exist.\n",
      "I1120 09:20:25.175660 703534 PhysicsAttributesManager.cpp:26] File (./data/default.physics_config.json) not found, so new default physics manager attributes created and registered.\n",
      "I1120 09:20:25.175662 703534 MetadataMediator.cpp:212] ::setActiveSceneDatasetName : Previous activeI1120 09:20:28.646331 703534 simulator.py:221] Loaded navmesh /media/junting/SSD_data/habitat_data/scene_datasets/mp3d/v1/scans/17DRP5sb8fy/17DRP5sb8fy.navmesh\n",
      "INFO - 2021-11-20 09:20:28,646 - simulator - I1120 09:20:28.646331 703534 simulator.py:221] Loaded navmesh /media/junting/SSD_data/habitat_data/scene_datasets/mp3d/v1/scans/17DRP5sb8fy/17DRP5sb8fy.navmesh\n"
     ]
    },
    {
     "name": "stdout",
     "output_type": "stream",
     "text": [
      "Renderer: GeForce RTX 3080/PCIe/SSE2 by NVIDIA Corporation\n",
      "OpenGL version: 4.6.0 NVIDIA 460.91.03\n",
      "Using optional features:\n",
      "    GL_ARB_vertex_array_object\n",
      "    GL_ARB_ES2_compatibility\n",
      "    GL_ARB_separate_shader_objects\n",
      "    GL_ARB_robustness\n",
      "    GL_ARB_texture_storage\n",
      "    GL_ARB_invalidate_subdata\n",
      "    GL_ARB_texture_storage_multisample\n",
      "    GL_ARB_multi_bind\n",
      "    GL_ARB_direct_state_access\n",
      "    GL_ARB_get_texture_sub_image\n",
      "    GL_ARB_texture_filter_anisotropic\n",
      "    GL_KHR_debug\n",
      "Using driver workarounds:\n",
      "    no-forward-compatible-core-context\n",
      "    no-layout-qualifiers-on-old-glsl\n",
      "    nv-zero-context-profile-mask\n",
      "    nv-implementation-color-read-format-dsa-broken\n",
      "    nv-cubemap-inconsistent-compressed-image-size\n",
      "    nv-cubemap-broken-full-compressed-image-query\n",
      "    nv-compressed-block-size-in-bits\n"
     ]
    },
    {
     "name": "stderr",
     "output_type": "stream",
     "text": [
      " dataset  changed to default successfully.\n",
      "I1120 09:20:25.175663 703534 MetadataMediator.cpp:183] ::setCurrPhysicsAttributesHandle : Old physics manager attributes  changed to ./data/default.physics_config.json successfully.\n",
      "I1120 09:20:25.175664 703534 MetadataMediator.cpp:68] ::setSimulatorConfiguration : Set new simulator config for scene/stage : /media/junting/SSD_data/habitat_data/scene_datasets/mp3d/v1/scans/17DRP5sb8fy/17DRP5sb8fy.glb and dataset : default which is currently active dataset.\n",
      "I1120 09:20:25.224429 703534 ManagedFileBasedContainer.h:210] <Scene Instance>::convertFilenameToPassedExt : Filename : /media/junting/SSD_data/habitat_data/scene_datasets/mp3d/v1/scans/17DRP5sb8fy/17DRP5sb8fy.glb changed to proposed scene_instance.json filename : /media/junting/SSD_data/habitat_data/scene_datasets/mp3d/v1/scans/17DRP5sb8fy/17DRP5sb8fy.scene_instance.json\n",
      "I1120 09:20:25.224566 703534 MetadataMediator.cpp:311] ::getSceneAttributesByName : Dataset : default has no preloaded SceneAttributes or StageAttributes named : /media/junting/SSD_data/habitat_data/scene_datasets/mp3d/v1/scans/17DRP5sb8fy/17DRP5sb8fy.glb so loading/creating a new StageAttributes with this name, and then creating a SceneAttributes with the same name that references this stage.\n",
      "I1120 09:20:25.224572 703534 ManagedFileBasedContainer.h:210] <Stage Template>::convertFilenameToPassedExt : Filename : /media/junting/SSD_data/habitat_data/scene_datasets/mp3d/v1/scans/17DRP5sb8fy/17DRP5sb8fy.glb changed to proposed stage_config.json filename : /media/junting/SSD_data/habitat_data/scene_datasets/mp3d/v1/scans/17DRP5sb8fy/17DRP5sb8fy.stage_config.json\n",
      "I1120 09:20:25.224617 703534 AttributesManagerBase.h:365] <Stage Template>::createFromJsonOrDefaultInternal : Proposing JSON name : /media/junting/SSD_data/habitat_data/scene_datasets/mp3d/v1/scans/17DRP5sb8fy/17DRP5sb8fy.stage_config.json from original name : /media/junting/SSD_data/habitat_data/scene_datasets/mp3d/v1/scans/17DRP5sb8fy/17DRP5sb8fy.glb | This file  does not exist.\n",
      "I1120 09:20:25.224879 703534 AbstractObjectAttributesManagerBase.h:183] File (/media/junting/SSD_data/habitat_data/scene_datasets/mp3d/v1/scans/17DRP5sb8fy/17DRP5sb8fy.glb) exists but is not a recognized config filename extension, so new default Stage Template attributes created and registered.\n",
      "I1120 09:20:25.224901 703534 SceneDatasetAttributes.cpp:45] ::addNewSceneInstanceToDataset : Dataset : 'default' : Stage Attributes '/media/junting/SSD_data/habitat_data/scene_datasets/mp3d/v1/scans/17DRP5sb8fy/17DRP5sb8fy.glb' specified in Scene Attributes exists in dataset library.\n",
      "I1120 09:20:25.224903 703534 SceneDatasetAttributes.cpp:79] ::addNewSceneInstanceToDataset : Dataset : 'default' : Lighting Layout Attributes 'no_lights' specified in Scene Attributes but does not exist in dataset, so creating.\n",
      "I1120 09:20:25.224905 703534 ManagedFileBasedContainer.h:210] <Lighting Layout>::convertFilenameToPassedExt : Filename : no_lights changed to proposed lighting_config.json filename : no_lights.lighting_config.json\n",
      "I1120 09:20:25.224908 703534 ManagedFileBasedContainer.h:210] <Lighting Layout>::convertFilenameToPassedExt : Filename : no_lights changed to proposed lighting_config.json filename : no_lights.lighting_config.json\n",
      "I1120 09:20:25.224910 703534 AttributesManagerBase.h:365] <Lighting Layout>::createFromJsonOrDefaultInternal : Proposing JSON name : no_lights.lighting_config.json from original name : no_lights | This file  does not exist.\n",
      "I1120 09:20:25.224917 703534 LightLayoutAttributesManager.cpp:34] File (no_lights) not found, so new default light layout attributes created and registered.\n",
      "I1120 09:20:25.224920 703534 Simulator.cpp:206] ::setSceneInstanceAttributes : Navmesh file location in scene instance : /media/junting/SSD_data/habitat_data/scene_datasets/mp3d/v1/scans/17DRP5sb8fy/17DRP5sb8fy.navmesh\n",
      "I1120 09:20:25.224961 703534 Simulator.cpp:213] ::setSceneInstanceAttributes : Loading navmesh from /media/junting/SSD_data/habitat_data/scene_datasets/mp3d/v1/scans/17DRP5sb8fy/17DRP5sb8fy.navmesh\n",
      "I1120 09:20:25.225066 703534 Simulator.cpp:216] ::setSceneInstanceAttributes : Navmesh Loaded.\n",
      "I1120 09:20:25.225075 703534 SceneGraph.h:85] Created DrawableGroup: \n",
      "I1120 09:20:25.225077 703534 Simulator.cpp:251] ::setSceneInstanceAttributes : SceneInstance : /media/junting/SSD_data/habitat_data/scene_datasets/mp3d/v1/scans/17DRP5sb8fy/17DRP5sb8fy.glb proposed Semantic Scene Descriptor filename : /media/junting/SSD_data/habitat_data/scene_datasets/mp3d/v1/scans/17DRP5sb8fy/17DRP5sb8fy.house\n",
      "W1120 09:20:25.243785 703534 Simulator.cpp:275] ::setSceneInstanceAttributes : All attempts to load SSD with SceneAttributes-provided name /media/junting/SSD_data/habitat_data/scene_datasets/mp3d/v1/scans/17DRP5sb8fy/17DRP5sb8fy.house : exist : 0 : loaded as expected type : 1\n",
      "I1120 09:20:25.243950 703534 Simulator.cpp:324] ::createSceneInstance : Using scene instance-specified Light key : -no_lights-\n",
      "I1120 09:20:25.243955 703534 MetadataMediator.cpp:68] ::setSimulatorConfiguration : Set new simulator config for scene/stage : /media/junting/SSD_data/habitat_data/scene_datasets/mp3d/v1/scans/17DRP5sb8fy/17DRP5sb8fy.glb and dataset : default which is currently active dataset.\n",
      "I1120 09:20:25.243970 703534 Simulator.cpp:382] ::createSceneInstance : Start to load stage named : /media/junting/SSD_data/habitat_data/scene_datasets/mp3d/v1/scans/17DRP5sb8fy/17DRP5sb8fy.glb with render asset : /media/junting/SSD_data/habitat_data/scene_datasets/mp3d/v1/scans/17DRP5sb8fy/17DRP5sb8fy.glb and collision asset : /media/junting/SSD_data/habitat_data/scene_datasets/mp3d/v1/scans/17DRP5sb8fy/17DRP5sb8fy.glb\n",
      "I1120 09:20:25.244062 703534 ResourceManager.cpp:217] ::loadStage : Loading Semantic Stage mesh : /media/junting/SSD_data/habitat_data/scene_datasets/mp3d/v1/scans/17DRP5sb8fy/17DRP5sb8fy_semantic.ply\n",
      "I1120 09:20:25.244065 703534 SceneGraph.h:85] Created DrawableGroup: \n",
      "I1120 09:20:25.244067 703534 ResourceManager.cpp:699] ::loadStageInternal : Attempting to load stage /media/junting/SSD_data/habitat_data/scene_datasets/mp3d/v1/scans/17DRP5sb8fy/17DRP5sb8fy_semantic.ply \n",
      "I1120 09:20:28.044718 703534 ResourceManager.cpp:248] ::loadStage : Semantic Stage mesh : /media/junting/SSD_data/habitat_data/scene_datasets/mp3d/v1/scans/17DRP5sb8fy/17DRP5sb8fy_semantic.ply loaded.\n",
      "I1120 09:20:28.044731 703534 ResourceManager.cpp:285] ::loadStage : start load render asset /media/junting/SSD_data/habitat_data/scene_datasets/mp3d/v1/scans/17DRP5sb8fy/17DRP5sb8fy.glb.\n",
      "I1120 09:20:28.044732 703534 ResourceManager.cpp:699] ::loadStageInternal : Attempting to load stage /media/junting/SSD_data/habitat_data/scene_datasets/mp3d/v1/scans/17DRP5sb8fy/17DRP5sb8fy.glb \n",
      "I1120 09:20:28.044891 703534 ResourceManager.cpp:1280] Importing Basis files as BC7 for 17DRP5sb8fy.glb\n",
      "I1120 09:20:28.645275 703534 Simulator.cpp:400] ::createSceneInstance : Successfully loaded stage named : /media/junting/SSD_data/habitat_data/scene_datasets/mp3d/v1/scans/17DRP5sb8fy/17DRP5sb8fy.glb\n",
      "I1120 09:20:28.645290 703534 MetadataMediator.cpp:262] ::getSceneAttributesByName : Query dataset : default for SceneAttributes named : /media/junting/SSD_data/habitat_data/scene_datasets/mp3d/v1/scans/17DRP5sb8fy/17DRP5sb8fy.glb yields 1 candidates.  Using /media/junting/SSD_data/habitat_data/scene_datasets/mp3d/v1/scans/17DRP5sb8fy/17DRP5sb8fy.glb.\n",
      "I1120 09:20:28.645298 703534 SceneDatasetAttributes.cpp:45] ::addNewSceneInstanceToDataset : Dataset : 'default' : Stage Attributes '/media/junting/SSD_data/habitat_data/scene_datasets/mp3d/v1/scans/17DRP5sb8fy/17DRP5sb8fy.glb' specified in Scene Attributes exists in dataset library.\n",
      "I1120 09:20:28.645299 703534 SceneDatasetAttributes.cpp:85] ::addNewSceneInstanceToDataset : Dataset : 'default' : Lighting Layout Attributes no_lights specified in Scene Attributes exists in dataset library.\n",
      "I1120 09:20:28.645305 703534 MetadataMediator.cpp:262] ::getSceneAttributesByName : Query dataset : default for SceneAttributes named : /media/junting/SSD_data/habitat_data/scene_datasets/mp3d/v1/scans/17DRP5sb8fy/17DRP5sb8fy.glb yields 1 candidates.  Using /media/junting/SSD_data/habitat_data/scene_datasets/mp3d/v1/scans/17DRP5sb8fy/17DRP5sb8fy.glb.\n",
      "I1120 09:20:28.645308 703534 SceneDatasetAttributes.cpp:45] ::addNewSceneInstanceToDataset : Dataset : 'default' : Stage Attributes '/media/junting/SSD_data/habitat_data/scene_datasets/mp3d/v1/scans/17DRP5sb8fy/17DRP5sb8fy.glb' specified in Scene Attributes exists in dataset library.\n",
      "I1120 09:20:28.645309 703534 SceneDatasetAttributes.cpp:85] ::addNewSceneInstanceToDataset : Dataset : 'default' : Lighting Layout Attributes no_lights specified in Scene Attributes exists in dataset library.\n",
      "I1120 09:20:28.645323 703534 Simulator.cpp:182] Simulator::reconfigure() : createSceneInstance success == true for active scene name : /media/junting/SSD_data/habitat_data/scene_datasets/mp3d/v1/scans/17DRP5sb8fy/17DRP5sb8fy.glb with renderer.\n"
     ]
    }
   ],
   "source": [
    "%%capture  \n",
    "\n",
    "ply_file = \"/media/junting/SSD_data/habitat_data/scene_datasets/mp3d/v1/scans/17DRP5sb8fy/17DRP5sb8fy_semantic.ply\"\n",
    "glb_file = \"/media/junting/SSD_data/habitat_data/scene_datasets/mp3d/v1/scans/17DRP5sb8fy/17DRP5sb8fy.glb\"\n",
    "\n",
    "plydata = PlyData.read(ply_file)\n",
    "scene_o3d = o3d.io.read_point_cloud(ply_file)\n",
    "sim, _, settings = init_sim(glb_file)"
   ]
  },
  {
   "cell_type": "code",
   "execution_count": 4,
   "id": "c50bfb3b",
   "metadata": {},
   "outputs": [],
   "source": [
    "vertex = plydata['vertex']\n",
    "face = plydata['face']"
   ]
  },
  {
   "cell_type": "markdown",
   "id": "954b774a",
   "metadata": {},
   "source": [
    "## Generate vertex segmentation "
   ]
  },
  {
   "cell_type": "code",
   "execution_count": 5,
   "id": "f48bd462",
   "metadata": {},
   "outputs": [],
   "source": [
    "# collect vertices of one object \n",
    "import json \n",
    "##################  dictionary format ####################\n",
    "# def generate_vertex_seg(sim, settings, scene_ply, scene_glb, save_file=None):\n",
    "\n",
    "#     if sim:\n",
    "#         settings[\"scene\"] = scene_glb\n",
    "#         cfg = make_cfg(settings)\n",
    "#         # load a new scene without closing and opening simulator \n",
    "#         sim.reconfigure(cfg)\n",
    "#     else:\n",
    "#         sim = init_sim(scene_glb)\n",
    "\n",
    "#     plydata = PlyData.read(scene_ply)\n",
    "#     # scene_o3d = o3d.io.read_point_cloud(scene_ply)\n",
    "#     # NOTE: open3d does not support face color yet, 2021/11/15\n",
    "#     vertex = plydata['vertex']\n",
    "#     face = plydata['face']\n",
    "\n",
    "#     object_ids = [int(obj.id.split(\"_\")[-1]) for obj in sim.semantic_scene.objects]\n",
    "#     pcl_seg_dict = {obj_id:[] for obj_id in object_ids}\n",
    "\n",
    "#     for tri in face.data:\n",
    "#         pcl_seg_dict[tri[1]].append(tri[0]) # append a (3,) numpy int32 array \n",
    "\n",
    "#     for obj_id in object_ids:\n",
    "#         pcl_seg_dict[obj_id] =  np.unique(np.concatenate(pcl_seg_dict[obj_id])).astype(int).tolist()\n",
    "\n",
    "#     if save_file:\n",
    "#         with open(save_file, \"w\") as f:\n",
    "#             json.dump(pcl_seg_dict, f)\n",
    "################ list format ######################\n",
    "def generate_vertex_seg(sim, settings, scene_ply, scene_glb, save_file=None):\n",
    "\n",
    "    if sim:\n",
    "        settings[\"scene\"] = scene_glb\n",
    "        cfg = make_cfg(settings)\n",
    "        # load a new scene without closing and opening simulator \n",
    "        sim.reconfigure(cfg)\n",
    "    else:\n",
    "        sim = init_sim(scene_glb)\n",
    "\n",
    "    plydata = PlyData.read(scene_ply)\n",
    "    # scene_o3d = o3d.io.read_point_cloud(scene_ply)\n",
    "    # NOTE: open3d does not support face color yet, 2021/11/15\n",
    "    vertex = plydata['vertex']\n",
    "    face = plydata['face']\n",
    "    num_vertex = len(vertex.data)\n",
    "\n",
    "    object_ids = [int(obj.id.split(\"_\")[-1]) for obj in sim.semantic_scene.objects]\n",
    "    pcl_seg_arr = np.zeros(num_vertex, dtype=int) - 1\n",
    "    pcl_seg_dict = {obj_id:[] for obj_id in object_ids}\n",
    "\n",
    "    for tri in face.data:\n",
    "        pcl_seg_dict[tri[1]].append(tri[0]) # append a (3,) numpy int32 array \n",
    "\n",
    "    for obj_id in object_ids:\n",
    "        pcl_seg_dict[obj_id] =  np.unique(np.concatenate(pcl_seg_dict[obj_id])).astype(int)\n",
    "        # convert to list of labels \n",
    "        pcl_seg_arr[pcl_seg_dict[obj_id]] = obj_id\n",
    "\n",
    "    if save_file:\n",
    "        # with open(, \"w\") as f:\n",
    "        #     json.dump(pcl_seg_dict, f)\n",
    "        np.savetxt(save_file, pcl_seg_arr, fmt=\"%d\")\n",
    "    return pcl_seg_arr"
   ]
  },
  {
   "cell_type": "code",
   "execution_count": 6,
   "id": "180ae8ea",
   "metadata": {},
   "outputs": [
    {
     "data": {
      "text/plain": [
       "array([  0,   2,   2, ..., 181, 172, 175])"
      ]
     },
     "execution_count": 6,
     "metadata": {},
     "output_type": "execute_result"
    }
   ],
   "source": [
    "# generate_vertex_seg(\n",
    "#     sim=sim,\n",
    "#     settings=settings,\n",
    "#     scene_ply=ply_file,\n",
    "#     scene_glb=glb_file,\n",
    "#     save_file=\"/media/junting/SSD_data/habitat_data/scene_datasets/mp3d/v1/scans/17DRP5sb8fy/17DRP5sb8fy_pclseg.txt\"\n",
    "# )"
   ]
  },
  {
   "cell_type": "markdown",
   "id": "22ec35f6",
   "metadata": {},
   "source": [
    "## visualize segmentation"
   ]
  },
  {
   "cell_type": "code",
   "execution_count": null,
   "id": "e11bbee9",
   "metadata": {},
   "outputs": [],
   "source": [
    "# visualize semantic pointclouds with generated annotation\n",
    "import matplotlib.pyplot as plt\n",
    "\n",
    "def visualize_pclseg(scene_ply, pclseg_file, color_map=\"gist_rainbow\", save_file=None):\n",
    "    \n",
    "    scene_o3d = o3d.io.read_point_cloud(scene_ply)\n",
    "    pcl_seg = np.loadtxt(pclseg_file)\n",
    "\n",
    "    # TODO:there are so many objects in one scene, color them by its class label \n",
    "    labels = np.unique(pcl_seg)\n",
    "    max_label = labels.max()\n",
    "    labels[labels < 0] = max_label + 1 # -1 indicates non-labeled points \n",
    "\n",
    "    print(f\"scene {scene_ply.split('/')[-2]} has {max_label + 1} objects\")\n",
    "    colors = plt.get_cmap(color_map)(pcl_seg / (max_label+1))\n",
    "\n",
    "    scene_o3d.colors = o3d.utility.Vector3dVector(colors[:, :3])\n",
    "    o3d.visualization.draw_geometries([scene_o3d],\n",
    "                                    zoom=0.455,\n",
    "                                    front=[-0.4999, -0.1659, -0.8499],\n",
    "                                    lookat=[2.1813, 2.0619, 2.0999],\n",
    "                                    up=[0.1204, -0.9852, 0.1215])\n",
    "    \n",
    "    if save_file:\n",
    "        o3d.io.write_point_cloud(save_file, scene_o3d, write_ascii=True)"
   ]
  },
  {
   "cell_type": "markdown",
   "id": "aa8c9125",
   "metadata": {},
   "source": [
    "## Visualize bbox with pointclouds"
   ]
  },
  {
   "cell_type": "code",
   "execution_count": 12,
   "id": "7f4125e3",
   "metadata": {},
   "outputs": [],
   "source": [
    "from scipy.spatial.transform import Rotation as R\n",
    "from habitat_sim.utils.common import quat_from_two_vectors, quat_to_coeffs\n",
    "import quaternion as qt\n",
    "\n",
    "quat = quat_from_two_vectors(np.array([0, -1, 0]), np.array([0, 0, -1]))\n",
    "yz_flip_mat = qt.as_rotation_matrix(quat)\n",
    "zy_flip_mat = qt.as_rotation_matrix(\n",
    "    quat_from_two_vectors(np.array([0, 0, -1]), np.array([0, -1, 0])))\n"
   ]
  },
  {
   "cell_type": "code",
   "execution_count": 15,
   "id": "a93b0350",
   "metadata": {},
   "outputs": [],
   "source": [
    "# mp3d_axis_pcd = o3d.geometry.TriangleMesh.create_coordinate_frame(size=3, origin=[0, 0, 0])\n",
    "# habitat_axis_pcd = o3d.geometry.TriangleMesh.create_coordinate_frame(size=1, origin=[0, 0, 5]).rotate(zy_flip_mat)\n",
    "# o3d.visualization.draw_geometries([mp3d_axis_pcd, habitat_axis_pcd])\n",
    "# zy_flip_mat"
   ]
  },
  {
   "cell_type": "code",
   "execution_count": 24,
   "id": "7c3f743c",
   "metadata": {},
   "outputs": [
    {
     "name": "stdout",
     "output_type": "stream",
     "text": [
      "only visualize region bedroom\n"
     ]
    }
   ],
   "source": [
    "vis_list = []\n",
    "# visualize coord \n",
    "axis_pcd = o3d.geometry.TriangleMesh.create_coordinate_frame(size=1, origin=[0, 0, 5])\n",
    "vis_list.append(axis_pcd)\n",
    "\n",
    "# visualize scene point clouds in habitat coord frame \n",
    "scene_o3d_habitat = o3d.geometry.PointCloud(scene_o3d)\n",
    "scene_o3d_habitat.rotate(zy_flip_mat)\n",
    "vis_list.append(scene_o3d_habitat)\n",
    "\n",
    "# # visualize level abb \n",
    "# scene_abb = sim.semantic_scene.aabb\n",
    "# o3d_obb = o3d.geometry.AxisAlignedBoundingBox(scene_abb.center, scene_abb.sizes/2)\n",
    "# vis_list.append(o3d_obb)\n",
    "\n",
    "# visualize regions abb\n",
    "for region in sim.semantic_scene.regions:\n",
    "    region_aabb = o3d.geometry.AxisAlignedBoundingBox(region.aabb.center, region.aabb.sizes/2)\n",
    "    region_aabb.color = (1,0,0)\n",
    "    vis_list.append(region_aabb)\n",
    "    print(f\"only visualize region {region.category.name()}\")\n",
    "    break\n",
    "# visualize objects obb\n",
    "# for obj in sim.semantic_scene.objects[:5]:\n",
    "\n",
    "    # obb = obj.obb\n",
    "    # center = obb.center\n",
    "    # extent = obb.sizes\n",
    "    # r_mat = qt.as_rotation_matrix(qt.as_quat_array(obb.rotation))\n",
    "    # r_mat = yz_flip_mat @ r_mat\n",
    "    # o3d_obb = o3d.geometry.OrientedBoundingBox(center, r_mat, extent/2)\n",
    "    # o3d_obb.color = (0,1,0)\n",
    "    # vis_list.append(o3d_obb)\n",
    "\n",
    "# # visualize objects aabb \n",
    "# for obj in sim.semantic_scene.objects[:5]:\n",
    "\n",
    "#     aabb = obj.aabb\n",
    "#     center = aabb.center\n",
    "#     sizes = aabb.sizes\n",
    "\n",
    "#     o3d_aabb = o3d.geometry.AxisAlignedBoundingBox(center, sizes/2)\n",
    "#     o3d_aabb.rotate(yz_flip_mat)\n",
    "#     o3d_aabb.color = (0,1,0)\n",
    "#     vis_list.append(o3d_aabb)  \n",
    "\n",
    "o3d.visualization.draw_geometries(vis_list)"
   ]
  },
  {
   "cell_type": "code",
   "execution_count": 31,
   "id": "77ca3144",
   "metadata": {},
   "outputs": [
    {
     "data": {
      "text/plain": [
       "'wall'"
      ]
     },
     "execution_count": 31,
     "metadata": {},
     "output_type": "execute_result"
    }
   ],
   "source": [
    "# sim.semantic_scene.objects[0].category.name()"
   ]
  }
 ],
 "metadata": {
  "interpreter": {
   "hash": "e7370f93d1d0cde622a1f8e1c04877d8463912d04d973331ad4851f04de6915a"
  },
  "kernelspec": {
   "display_name": "Python 3.8.10 64-bit",
   "name": "python3"
  },
  "language_info": {
   "codemirror_mode": {
    "name": "ipython",
    "version": 3
   },
   "file_extension": ".py",
   "mimetype": "text/x-python",
   "name": "python",
   "nbconvert_exporter": "python",
   "pygments_lexer": "ipython3",
   "version": "3.8.10"
  }
 },
 "nbformat": 4,
 "nbformat_minor": 5
}
