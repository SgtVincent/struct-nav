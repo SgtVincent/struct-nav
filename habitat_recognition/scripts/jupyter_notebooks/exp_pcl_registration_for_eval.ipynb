{
 "cells": [
  {
   "cell_type": "markdown",
   "metadata": {},
   "source": [
    "## Experiment: point cloud registration for evaluation \n",
    "Motivation: The reconstructed point clouds has no direction transformation to annotated mesh file. This notebook tries to \n",
    "1. Use point cloud registration method to first predict a transformation from rtabmap point clouds to annotated point clouds\n",
    "2. Convert HAIS segmentation result to bounding boxes \n",
    "3. Eval the detection result on matterport3D/rtabmap \n",
    "4. Compare the results to check the registration performance   "
   ]
  },
  {
   "cell_type": "code",
   "execution_count": 1,
   "metadata": {},
   "outputs": [
    {
     "name": "stdout",
     "output_type": "stream",
     "text": [
      "Jupyter environment detected. Enabling Open3D WebVisualizer.\n",
      "[Open3D INFO] WebRTC GUI backend enabled.\n",
      "[Open3D INFO] WebRTCWindowSystem: HTTP handshake server disabled.\n",
      "/home/junting/habitat_ws/src/struct-nav/habitat_recognition/scripts\n"
     ]
    }
   ],
   "source": [
    "import os \n",
    "import sys \n",
    "import numpy as np \n",
    "import open3d as o3d \n",
    "import matplotlib.pyplot as plt \n",
    "import plotly\n",
    "import pickle \n",
    "%cd /home/junting/habitat_ws/src/struct-nav/habitat_recognition/scripts"
   ]
  },
  {
   "cell_type": "markdown",
   "metadata": {},
   "source": [
    "### Matterport3D \n",
    "Evaluate prediction result on matterport3d original point cloud "
   ]
  },
  {
   "cell_type": "code",
   "execution_count": 2,
   "metadata": {},
   "outputs": [],
   "source": [
    "mp3d_scans_dir = \"/media/junting/SSD_data/habitat_data/scene_datasets/mp3d/v1/scans\"\n",
    "scene = '17DRP5sb8fy' # middle-sized common flat \n",
    "scene_dir = os.path.join(mp3d_scans_dir, scene)"
   ]
  },
  {
   "cell_type": "code",
   "execution_count": 3,
   "metadata": {},
   "outputs": [
    {
     "name": "stdout",
     "output_type": "stream",
     "text": [
      "Error: \n"
     ]
    }
   ],
   "source": [
    "############ label mapping ###################\n",
    "import csv \n",
    "mapping_mpcat40id_to_nyu40id = {}\n",
    "\n",
    "with open(\"./metadata/mpcat40_to_nyu40.tsv\") as csvfile:\n",
    "    reader = csv.DictReader(csvfile, delimiter=\"\\t\")\n",
    "    for row in reader:\n",
    "        mapping_mpcat40id_to_nyu40id[int(row['mpcat40index'])] = int(row['nyu40id'])\n",
    "\n",
    "mapping_nyu40id_to_nyu40class = {}\n",
    "with open(\"./metadata/mp3d_mapping.tsv\") as csvfile:\n",
    "    reader = csv.DictReader(csvfile, delimiter=\"\\t\")\n",
    "    for row in reader:\n",
    "        try:\n",
    "            mapping_nyu40id_to_nyu40class[int(row['nyu40id'])] = row['nyu40class']\n",
    "        except:\n",
    "            print(\"Error:\", row['nyu40id'])"
   ]
  },
  {
   "cell_type": "code",
   "execution_count": 4,
   "metadata": {},
   "outputs": [
    {
     "name": "stderr",
     "output_type": "stream",
     "text": [
      "[2022-02-10 10:43:53,601  INFO  log.py  line 39  103813]  ************************ Start Logging ************************\n",
      "INFO - 2022-02-10 10:43:53,601 - log - ************************ Start Logging ************************\n"
     ]
    },
    {
     "name": "stdout",
     "output_type": "stream",
     "text": [
      "cuda available: True\n"
     ]
    },
    {
     "name": "stderr",
     "output_type": "stream",
     "text": [
      "[2022-02-10 10:43:55,161  INFO  utils.py  line 67  103813]  Restore from /home/junting/project_cvl/HAIS/pretrain/hais_ckpt.pth\n",
      "INFO - 2022-02-10 10:43:55,161 - utils - Restore from /home/junting/project_cvl/HAIS/pretrain/hais_ckpt.pth\n"
     ]
    }
   ],
   "source": [
    "# run model inference \n",
    "from models.segmenter_hais import SegmenterHAIS\n",
    "from config.config_hais import ConfigHAIS\n",
    "\n",
    "config = ConfigHAIS()\n",
    "seg_hais = SegmenterHAIS(config)"
   ]
  },
  {
   "cell_type": "code",
   "execution_count": 6,
   "metadata": {},
   "outputs": [
    {
     "name": "stdout",
     "output_type": "stream",
     "text": [
      "Original point cloud has 924711 points, subsampled to 300000 points by random method\n"
     ]
    }
   ],
   "source": [
    "ply_path = os.path.join(scene_dir, f\"{scene}_semantic.ply\")\n",
    "o3d_pcl = o3d.io.read_point_cloud(ply_path)\n",
    "down_sampled_o3d_pcl, pred_result = seg_hais.predict(o3d_pcl)"
   ]
  },
  {
   "cell_type": "code",
   "execution_count": 34,
   "metadata": {},
   "outputs": [
    {
     "name": "stdout",
     "output_type": "stream",
     "text": [
      "dict_keys(['inst_mask', 'inst_conf', 'label_id'])\n",
      "(56, 300000)\n"
     ]
    }
   ],
   "source": [
    "print(pred_result.keys())\n",
    "print(pred_result['inst_mask'].shape)"
   ]
  },
  {
   "cell_type": "code",
   "execution_count": 35,
   "metadata": {},
   "outputs": [],
   "source": [
    "########## convert segmentation to batch_pred_map_cls ###########\n",
    "from utils.box_util import get_3d_box\n",
    "\n",
    "pred_map_cls = []\n",
    "points = np.asarray(down_sampled_o3d_pcl.points)\n",
    "\n",
    "for inst_id, inst_label in enumerate(pred_result['label_id']):\n",
    "    inst_points = points[pred_result['inst_mask'][inst_id], :]\n",
    "    inst_min = inst_points.min(0)\n",
    "    inst_max = inst_points.max(0)\n",
    "    center = (inst_min + inst_max) / 2.0\n",
    "    size = inst_max - inst_min\n",
    "    aabb = get_3d_box(size, 0, center)\n",
    "    \n",
    "    # (pred_cls, pred_box_params, score)\n",
    "    pred_map_cls.append((\n",
    "        pred_result['label_id'][inst_id],\n",
    "        aabb,\n",
    "        pred_result['inst_conf'][inst_id]\n",
    "    ))\n",
    "\n",
    "batch_pred_map_cls = [pred_map_cls]"
   ]
  },
  {
   "cell_type": "code",
   "execution_count": 44,
   "metadata": {},
   "outputs": [],
   "source": [
    "########## convert gt annotations to batch_gt_map_cls ############\n",
    "from dataset.mp3d.utils import read_house_file, getOBB\n",
    "\n",
    "gt_map_cls = []\n",
    "\n",
    "house_file = os.path.join(scene_dir, f\"{scene}.house\")\n",
    "house_dict, parse_dict = read_house_file(house_file)\n",
    "# C category_index category_mapping_index category_mapping_name mpcat40_index mpcat40_name 0 0 0 0 0\n",
    "mapping_rawcat_to_mpcat40 = {}\n",
    "for cat_dict in house_dict['C']:\n",
    "    mapping_rawcat_to_mpcat40[int(cat_dict['category_index'])] = \\\n",
    "        int(cat_dict['mpcat40_index'])\n",
    "\n",
    "# O object_index region_index category_index px py pz  a0x a0y a0z  a1x a1y a1z  r0 r1 r2 0 0 0 0 0 0 0 0 \n",
    "for object_dict in house_dict['O']: \n",
    "\n",
    "    raw_label = int(object_dict['category_index'])\n",
    "    if raw_label == -1:\n",
    "        nyu40_label = 0\n",
    "    else:\n",
    "        mpcat40_label = mapping_rawcat_to_mpcat40[raw_label]\n",
    "        nyu40_label = mapping_mpcat40id_to_nyu40id[mpcat40_label]\n",
    "    \n",
    "    center, boxRotation, radii = getOBB(object_dict)\n",
    "    o3d_obb = o3d.geometry.OrientedBoundingBox(center, boxRotation, 2*radii)\n",
    "    o3d_aabb = o3d_obb.get_axis_aligned_bounding_box()\n",
    "    center = o3d_aabb.get_center()\n",
    "    size = o3d_aabb.get_extent()\n",
    "    aabb = get_3d_box(size, 0, center)\n",
    "\n",
    "    gt_map_cls.append((\n",
    "        nyu40_label,\n",
    "        aabb\n",
    "    ))\n",
    "batch_gt_map_cls = [gt_map_cls]"
   ]
  },
  {
   "cell_type": "code",
   "execution_count": 40,
   "metadata": {},
   "outputs": [
    {
     "data": {
      "text/plain": [
       "{'category_index': '0',\n",
       " 'category_mapping_index': '1',\n",
       " 'category_mapping_name': 'wall',\n",
       " 'mpcat40_index': '1',\n",
       " 'mpcat40_name': 'wall'}"
      ]
     },
     "execution_count": 40,
     "metadata": {},
     "output_type": "execute_result"
    }
   ],
   "source": [
    "house_dict['C'][0]"
   ]
  },
  {
   "cell_type": "code",
   "execution_count": 47,
   "metadata": {},
   "outputs": [
    {
     "name": "stderr",
     "output_type": "stream",
     "text": [
      "/home/junting/habitat_ws/src/struct-nav/habitat_recognition/scripts/eval/eval_det.py:159: RuntimeWarning: invalid value encountered in true_divide\n",
      "  rec = tp / float(npos)\n",
      "/home/junting/habitat_ws/src/struct-nav/habitat_recognition/scripts/eval/eval_det.py:159: RuntimeWarning: invalid value encountered in true_divide\n",
      "  rec = tp / float(npos)\n"
     ]
    },
    {
     "name": "stdout",
     "output_type": "stream",
     "text": [
      "28 nan\n",
      "39 0.0\n",
      "9 0.0\n",
      "5 0.0\n",
      "11 0.0\n",
      "16 0.0\n",
      "3 0.0\n",
      "8 0.07142857142857142\n",
      "6 0.0\n",
      "7 0.0\n",
      "14 nan\n",
      "4 0.0\n",
      "36 0.0\n",
      "34 0.0\n",
      "40 0\n",
      "22 0\n",
      "21 0\n",
      "1 0\n",
      "0 0\n",
      "2 0\n",
      "17 0\n",
      "19 0\n",
      "27 0\n",
      "33 0\n",
      "18 0\n",
      "25 0\n",
      "15 0\n",
      "12 0\n",
      "eval void Average Precision: 0.000000\n",
      "eval wall Average Precision: 0.000000\n",
      "eval floor Average Precision: 0.000000\n",
      "eval cabinet Average Precision: 0.000000\n",
      "eval bed Average Precision: 0.000000\n",
      "eval chair Average Precision: 0.000000\n",
      "eval sofa Average Precision: 0.000000\n",
      "eval table Average Precision: 0.000000\n",
      "eval door Average Precision: 0.071429\n",
      "eval window Average Precision: 0.000000\n",
      "eval picture Average Precision: 0.000000\n",
      "eval counter Average Precision: 0.000000\n",
      "eval desk Average Precision: nan\n",
      "eval shelves Average Precision: 0.000000\n",
      "eval curtain Average Precision: 0.000000\n",
      "eval dresser Average Precision: 0.000000\n",
      "eval pillow Average Precision: 0.000000\n",
      "eval mirror Average Precision: 0.000000\n",
      "eval clothes Average Precision: 0.000000\n",
      "eval ceiling Average Precision: 0.000000\n",
      "eval television Average Precision: 0.000000\n",
      "eval towel Average Precision: 0.000000\n",
      "eval shower curtain Average Precision: nan\n",
      "eval toilet Average Precision: 0.000000\n",
      "eval sink Average Precision: 0.000000\n",
      "eval bathtub Average Precision: 0.000000\n",
      "eval otherfurniture Average Precision: 0.000000\n",
      "eval otherprop Average Precision: 0.000000\n",
      "eval mAP: nan\n",
      "eval void Recall: 0.000000\n",
      "eval wall Recall: 0.000000\n",
      "eval floor Recall: 0.000000\n",
      "eval cabinet Recall: 0.000000\n",
      "eval bed Recall: 0.000000\n",
      "eval chair Recall: 0.000000\n",
      "eval sofa Recall: 0.000000\n",
      "eval table Recall: 0.000000\n",
      "eval door Recall: 0.071429\n",
      "eval window Recall: 0.000000\n",
      "eval picture Recall: 0.000000\n",
      "eval counter Recall: 0.000000\n",
      "eval desk Recall: nan\n",
      "eval shelves Recall: 0.000000\n",
      "eval curtain Recall: 0.000000\n",
      "eval dresser Recall: 0.000000\n",
      "eval pillow Recall: 0.000000\n",
      "eval mirror Recall: 0.000000\n",
      "eval clothes Recall: 0.000000\n",
      "eval ceiling Recall: 0.000000\n",
      "eval television Recall: 0.000000\n",
      "eval towel Recall: 0.000000\n",
      "eval shower curtain Recall: nan\n",
      "eval toilet Recall: 0.000000\n",
      "eval sink Recall: 0.000000\n",
      "eval bathtub Recall: 0.000000\n",
      "eval otherfurniture Recall: 0.000000\n",
      "eval otherprop Recall: 0.000000\n",
      "eval AR: nan\n"
     ]
    }
   ],
   "source": [
    "from eval.ap_helper import APCalculator\n",
    "\n",
    "\n",
    "\"\"\" Accumulate one batch of prediction and groundtruth.\n",
    "\n",
    "Args:\n",
    "    batch_pred_map_cls: a list of lists [[(pred_cls, pred_box_params, score),...],...]\n",
    "    batch_gt_map_cls: a list of lists [[(gt_cls, gt_box_params),...],...]\n",
    "        should have the same length with batch_pred_map_cls (batch_size)\n",
    "\"\"\"\n",
    "ap_calculator = APCalculator(0.25, mapping_nyu40id_to_nyu40class)\n",
    "ap_calculator.step(batch_pred_map_cls, batch_gt_map_cls)\n",
    "metrics_dict = ap_calculator.compute_metrics()\n",
    "for key in metrics_dict:\n",
    "    print('eval %s: %f'%(key, metrics_dict[key]))"
   ]
  },
  {
   "cell_type": "code",
   "execution_count": null,
   "metadata": {},
   "outputs": [],
   "source": []
  }
 ],
 "metadata": {
  "interpreter": {
   "hash": "bf3f3c9851ea4c110819ad8bbc770b2ddb7a74ab85751caf3b564f6414375707"
  },
  "kernelspec": {
   "display_name": "Python 3.8.12 64-bit ('habitat_nav': conda)",
   "language": "python",
   "name": "python3"
  },
  "language_info": {
   "codemirror_mode": {
    "name": "ipython",
    "version": 3
   },
   "file_extension": ".py",
   "mimetype": "text/x-python",
   "name": "python",
   "nbconvert_exporter": "python",
   "pygments_lexer": "ipython3",
   "version": "3.8.12"
  },
  "orig_nbformat": 4
 },
 "nbformat": 4,
 "nbformat_minor": 2
}
