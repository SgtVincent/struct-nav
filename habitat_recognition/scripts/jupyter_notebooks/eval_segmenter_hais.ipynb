{
 "cells": [
  {
   "cell_type": "markdown",
   "metadata": {},
   "source": [
    "## Evaluation of SegmenterHAIS"
   ]
  },
  {
   "cell_type": "code",
   "execution_count": 1,
   "metadata": {},
   "outputs": [
    {
     "name": "stdout",
     "output_type": "stream",
     "text": [
      "Jupyter environment detected. Enabling Open3D WebVisualizer.\n",
      "[Open3D INFO] WebRTC GUI backend enabled.\n",
      "[Open3D INFO] WebRTCWindowSystem: HTTP handshake server disabled.\n",
      "/home/junting/habitat_ws/src/struct-nav/habitat_recognition/scripts\n"
     ]
    }
   ],
   "source": [
    "import os \n",
    "import sys \n",
    "import numpy as np \n",
    "import open3d as o3d \n",
    "import matplotlib.pyplot as plt \n",
    "import plotly\n",
    "import pickle \n",
    "%cd /home/junting/habitat_ws/src/struct-nav/habitat_recognition/scripts"
   ]
  },
  {
   "cell_type": "markdown",
   "metadata": {},
   "source": [
    "### ScanNet"
   ]
  },
  {
   "cell_type": "code",
   "execution_count": 2,
   "metadata": {},
   "outputs": [],
   "source": [
    "# 0. variable definition \n",
    "scannet_scans_dir = \"/media/junting/SSD_data/ScanNet/scans\"\n",
    "scannet_annot_dir = \"/home/junting/project_cvl/HAIS/dataset/scannetv2\"\n",
    "scannet_scene_name = \"scene0000_00\"\n",
    "scannet_ply = os.path.join(scannet_scans_dir, scannet_scene_name, f\"{scannet_scene_name}_vh_clean_2.ply\")"
   ]
  },
  {
   "cell_type": "code",
   "execution_count": 3,
   "metadata": {},
   "outputs": [
    {
     "name": "stderr",
     "output_type": "stream",
     "text": [
      "[2022-02-12 09:32:54,012  INFO  log.py  line 39  1010375]  ************************ Start Logging ************************\n",
      "INFO - 2022-02-12 09:32:54,012 - log - ************************ Start Logging ************************\n"
     ]
    },
    {
     "name": "stdout",
     "output_type": "stream",
     "text": [
      "cuda available: True\n"
     ]
    },
    {
     "name": "stderr",
     "output_type": "stream",
     "text": [
      "[2022-02-12 09:32:55,638  INFO  utils.py  line 67  1010375]  Restore from /home/junting/project_cvl/HAIS/pretrain/hais_ckpt.pth\n",
      "INFO - 2022-02-12 09:32:55,638 - utils - Restore from /home/junting/project_cvl/HAIS/pretrain/hais_ckpt.pth\n"
     ]
    }
   ],
   "source": [
    "# 1. initialize model \n",
    "from models.segmenter_hais import SegmenterHAIS\n",
    "from config.config_hais import ConfigHAIS\n",
    "\n",
    "config = ConfigHAIS()\n",
    "seg_hais = SegmenterHAIS(config)"
   ]
  },
  {
   "cell_type": "code",
   "execution_count": 4,
   "metadata": {},
   "outputs": [],
   "source": [
    "# 2. load scannet data and run inference\n",
    "scannet_o3d = o3d.io.read_point_cloud(scannet_ply)\n",
    "down_sampled_o3d_pcl, pred_result = seg_hais.predict(scannet_o3d)"
   ]
  },
  {
   "cell_type": "code",
   "execution_count": 5,
   "metadata": {},
   "outputs": [
    {
     "name": "stdout",
     "output_type": "stream",
     "text": [
      "81369\n"
     ]
    }
   ],
   "source": [
    "print(len(scannet_o3d.points))"
   ]
  },
  {
   "cell_type": "code",
   "execution_count": 31,
   "metadata": {},
   "outputs": [],
   "source": [
    "# 3. convert segmentation to votenet batch_pred_map_cls \n",
    "from utils.box_util import get_3d_box\n",
    "\n",
    "pred_map_cls = []\n",
    "points = np.asarray(down_sampled_o3d_pcl.points)\n",
    "\n",
    "for inst_id, inst_label in enumerate(pred_result['label_id']):\n",
    "    inst_points = points[pred_result['inst_mask'][inst_id]==1, :]\n",
    "    inst_min = inst_points.min(0)\n",
    "    inst_max = inst_points.max(0)\n",
    "    center = (inst_min + inst_max) / 2.0\n",
    "    size = inst_max - inst_min\n",
    "    aabb = get_3d_box(size, 0, center)\n",
    "    \n",
    "    # (pred_cls, pred_box_params, score)\n",
    "    pred_map_cls.append((\n",
    "        pred_result['label_id'][inst_id],\n",
    "        aabb,\n",
    "        pred_result['inst_conf'][inst_id]\n",
    "    ))\n",
    "\n",
    "batch_pred_map_cls = [pred_map_cls]"
   ]
  },
  {
   "cell_type": "code",
   "execution_count": 7,
   "metadata": {},
   "outputs": [],
   "source": [
    "# 4. load scannet gt data \n",
    "import glob \n",
    "import torch \n",
    "\n",
    "annot_file = os.path.join(scannet_annot_dir, 'train', f\"{scannet_scene_name}_inst_nostuff.pth\")\n",
    "# NOTE: the point clouds has been rotated to axis-aligned frame in HAIS data preparation \n",
    "xyz_origin, rgb, label, instance_label = torch.load(annot_file) "
   ]
  },
  {
   "cell_type": "code",
   "execution_count": 14,
   "metadata": {},
   "outputs": [],
   "source": [
    "# scannet gt related definitions \n",
    "def getInstanceInfo(xyz, sem_label, instance_label):\n",
    "    '''\n",
    "    :param xyz: (n, 3)\n",
    "    :param label: (n), int, [0~19], -100 for unlabeled data   \n",
    "    :param instance_label: (n), int, (0~nInst-1, -100)\n",
    "    :return: instance_num, dict\n",
    "    '''\n",
    "    instance_num = int(instance_label.max()) + 1\n",
    "    # (n, 9), float, (cx, cy, cz, minx, miny, minz, maxx, maxy, maxz)\n",
    "    instance_info = np.ones((instance_num, 9), dtype=np.float32) * -100.0  \n",
    "    instance_pointnum = []   # (nInst), int\n",
    "    instance_sem_label = np.zeros(instance_num, dtype=int)\n",
    "    \n",
    "    for i_ in range(instance_num):\n",
    "        \n",
    "        inst_idx_i = np.where(instance_label == i_)\n",
    "\n",
    "        # instance_info\n",
    "        xyz_i = xyz[inst_idx_i]\n",
    "        sem_label_i = sem_label[inst_idx_i]\n",
    "        labels, count = np.unique(sem_label_i, return_counts=True)\n",
    "        instance_sem_label_i =  labels[count.argmax()]\n",
    "        min_xyz_i = xyz_i.min(0)\n",
    "        max_xyz_i = xyz_i.max(0)\n",
    "        mean_xyz_i = xyz_i.mean(0)\n",
    "        instance_info[i_, 0:3] = mean_xyz_i\n",
    "        instance_info[i_, 3:6] = min_xyz_i\n",
    "        instance_info[i_, 6:9] = max_xyz_i\n",
    "        instance_sem_label[i_] = instance_sem_label_i\n",
    "        # instance_pointnum\n",
    "        instance_pointnum.append(inst_idx_i[0].size)\n",
    "        instance_dict = {\n",
    "            \"instance_info\": instance_info, \n",
    "            \"instance_pointnum\": instance_pointnum, \n",
    "            \"instance_sem_label\": instance_sem_label\n",
    "        }\n",
    "\n",
    "    return instance_num, instance_dict\n",
    "\n",
    "CLASS_NAMES = [\"wall\",\"floor\",'cabinet', 'bed', 'chair', 'sofa', 'table', 'door', 'window', 'bookshelf', 'picture', 'counter', 'desk', 'curtain', 'refrigerator', 'shower curtain', 'toilet', 'sink', 'bathtub', 'otherfurniture']\n",
    "CLASS_LABELS = np.array([1, 2, 3, 4, 5, 6, 7, 8, 9, 10, 11, 12, 14, 16, 24, 28, 33, 34, 36, 39])\n"
   ]
  },
  {
   "cell_type": "code",
   "execution_count": 35,
   "metadata": {},
   "outputs": [],
   "source": [
    "# 5. convert gt annotations to batch_gt_map_cls \n",
    "\n",
    "gt_map_cls = []\n",
    "inst_pointnum_threshold = 50\n",
    "\n",
    "xyz = np.asarray(scannet_o3d.points)\n",
    "instance_num, instance_dict = getInstanceInfo(xyz, label, instance_label)\n",
    "instance_dims= instance_dict['instance_info']\n",
    "instance_pointnum = instance_dict['instance_pointnum']\n",
    "instance_sem_labels = instance_dict['instance_sem_label']\n",
    "\n",
    "for inst_id in range(instance_num): \n",
    "\n",
    "    center = instance_dims[inst_id, 0:3]\n",
    "    min = instance_dims[inst_id, 3:6]\n",
    "    max = instance_dims[inst_id, 6:9]\n",
    "    size = max - min \n",
    "    aabb = get_3d_box(size, 0, center)\n",
    "\n",
    "    num_point = instance_pointnum[inst_id]\n",
    "    sem_label = instance_sem_labels[inst_id]\n",
    "\n",
    "    if sem_label >= 0 and num_point > inst_pointnum_threshold:    \n",
    "        nyu40_label = CLASS_LABELS[sem_label]\n",
    "        gt_map_cls.append((\n",
    "            nyu40_label,\n",
    "            aabb\n",
    "        ))\n",
    "    \n",
    "batch_gt_map_cls = [gt_map_cls]"
   ]
  },
  {
   "cell_type": "code",
   "execution_count": 19,
   "metadata": {},
   "outputs": [
    {
     "name": "stdout",
     "output_type": "stream",
     "text": [
      "Error: \n"
     ]
    }
   ],
   "source": [
    "# read mapping from label to class name \n",
    "import csv \n",
    "\n",
    "mapping_nyu40id_to_nyu40class = {}\n",
    "with open(\"./metadata/mp3d_mapping.tsv\") as csvfile:\n",
    "    reader = csv.DictReader(csvfile, delimiter=\"\\t\")\n",
    "    for row in reader:\n",
    "        try:\n",
    "            mapping_nyu40id_to_nyu40class[int(row['nyu40id'])] = row['nyu40class']\n",
    "        except:\n",
    "            print(\"Error:\", row['nyu40id'])"
   ]
  },
  {
   "cell_type": "markdown",
   "metadata": {},
   "source": [
    "#### Calculate the metrics"
   ]
  },
  {
   "cell_type": "code",
   "execution_count": 40,
   "metadata": {},
   "outputs": [
    {
     "name": "stderr",
     "output_type": "stream",
     "text": [
      "/home/junting/habitat_ws/src/struct-nav/habitat_recognition/scripts/eval/eval_det.py:159: RuntimeWarning: invalid value encountered in true_divide\n",
      "  rec = tp / float(npos)\n"
     ]
    },
    {
     "name": "stdout",
     "output_type": "stream",
     "text": [
      "7 0.16666666666666666\n",
      "3 0.45714285714285713\n",
      "16 1.0\n",
      "39 0.08333333333333333\n",
      "4 1.0\n",
      "5 nan\n",
      "8 0.6666666666666666\n",
      "24 1.0\n",
      "34 1.0\n",
      "33 1.0\n",
      "14 1.0\n",
      "6 1.0\n",
      "9 0\n",
      "12 0\n",
      "eval cabinet Average Precision: 0.457143\n",
      "eval bed Average Precision: 1.000000\n",
      "eval chair Average Precision: nan\n",
      "eval sofa Average Precision: 1.000000\n",
      "eval table Average Precision: 0.166667\n",
      "eval door Average Precision: 0.666667\n",
      "eval window Average Precision: 0.000000\n",
      "eval counter Average Precision: 0.000000\n",
      "eval desk Average Precision: 1.000000\n",
      "eval curtain Average Precision: 1.000000\n",
      "eval refridgerator Average Precision: 1.000000\n",
      "eval toilet Average Precision: 1.000000\n",
      "eval sink Average Precision: 1.000000\n",
      "eval otherfurniture Average Precision: 0.083333\n",
      "eval mAP: nan\n",
      "eval cabinet Recall: 0.571429\n",
      "eval bed Recall: 1.000000\n",
      "eval chair Recall: nan\n",
      "eval sofa Recall: 1.000000\n",
      "eval table Recall: 0.333333\n",
      "eval door Recall: 0.666667\n",
      "eval window Recall: 0.000000\n",
      "eval counter Recall: 0.000000\n",
      "eval desk Recall: 1.000000\n",
      "eval curtain Recall: 1.000000\n",
      "eval refridgerator Recall: 1.000000\n",
      "eval toilet Recall: 1.000000\n",
      "eval sink Recall: 1.000000\n",
      "eval otherfurniture Recall: 0.333333\n",
      "eval AR: nan\n"
     ]
    }
   ],
   "source": [
    "from eval.ap_helper import APCalculator\n",
    "\n",
    "ap_calculator = APCalculator(0.25, mapping_nyu40id_to_nyu40class)\n",
    "ap_calculator.step(batch_pred_map_cls, batch_gt_map_cls)\n",
    "metrics_dict = ap_calculator.compute_metrics()\n",
    "for key in metrics_dict:\n",
    "    print('eval %s: %f'%(key, metrics_dict[key]))"
   ]
  },
  {
   "cell_type": "markdown",
   "metadata": {},
   "source": [
    "#### Visualize prediction & ground truth bounding boxes "
   ]
  },
  {
   "cell_type": "code",
   "execution_count": 36,
   "metadata": {},
   "outputs": [],
   "source": [
    "# generate predicted bounding boxes \n",
    "pred_labels = []\n",
    "pred_bboxes = []\n",
    "for obj in pred_map_cls:\n",
    "    pred_labels.append(obj[0])\n",
    "    min_bound = np.min(obj[1], 0)\n",
    "    max_bound = np.max(obj[1], 0)\n",
    "    aabb = o3d.geometry.AxisAlignedBoundingBox(min_bound, max_bound)\n",
    "    aabb.color = (1.,0.,0)\n",
    "    pred_bboxes.append(aabb)\n",
    "\n",
    "\n",
    "# generate ground truth bounding boxes \n",
    "gt_labels = []\n",
    "gt_bboxes = []\n",
    "for obj in gt_map_cls:\n",
    "    gt_labels.append(obj[0])\n",
    "    min_bound = np.min(obj[1], 0)\n",
    "    max_bound = np.max(obj[1], 0)\n",
    "    aabb = o3d.geometry.AxisAlignedBoundingBox(min_bound, max_bound)\n",
    "    aabb.color = (0.,1.,0.)\n",
    "    gt_bboxes.append(aabb)\n",
    "\n"
   ]
  },
  {
   "cell_type": "code",
   "execution_count": 38,
   "metadata": {},
   "outputs": [],
   "source": [
    "# visualize \n",
    "vis_list = [scannet_o3d]\n",
    "# vis_list.extend(pred_bboxes)\n",
    "vis_list.extend(gt_bboxes)\n",
    "\n",
    "o3d.visualization.draw_geometries(vis_list)"
   ]
  },
  {
   "cell_type": "markdown",
   "metadata": {},
   "source": [
    "### Matterport3D\n",
    "1. try to reproject rtabmap back to matterport3D \n",
    "2. generate rtabmap prediction and transform it \n",
    "3. evaluate rtabmap prediction"
   ]
  },
  {
   "cell_type": "code",
   "execution_count": 41,
   "metadata": {},
   "outputs": [],
   "source": [
    "mp3d_scene_dir = \"/media/junting/SSD_data/habitat_data/scene_datasets/mp3d/v1/scans\"\n",
    "mp3d_scene_name = \"17DRP5sb8fy\"\n",
    "scene_dir = os.path.join(mp3d_scene_dir, mp3d_scene_name)"
   ]
  },
  {
   "cell_type": "code",
   "execution_count": 42,
   "metadata": {},
   "outputs": [
    {
     "name": "stdout",
     "output_type": "stream",
     "text": [
      "Error: \n"
     ]
    }
   ],
   "source": [
    "############ label mapping ###################\n",
    "import csv \n",
    "mapping_mpcat40id_to_nyu40id = {}\n",
    "\n",
    "with open(\"./metadata/mpcat40_to_nyu40.tsv\") as csvfile:\n",
    "    reader = csv.DictReader(csvfile, delimiter=\"\\t\")\n",
    "    for row in reader:\n",
    "        mapping_mpcat40id_to_nyu40id[int(row['mpcat40index'])] = int(row['nyu40id'])\n",
    "\n",
    "mapping_nyu40id_to_nyu40class = {}\n",
    "with open(\"./metadata/mp3d_mapping.tsv\") as csvfile:\n",
    "    reader = csv.DictReader(csvfile, delimiter=\"\\t\")\n",
    "    for row in reader:\n",
    "        try:\n",
    "            mapping_nyu40id_to_nyu40class[int(row['nyu40id'])] = row['nyu40class']\n",
    "        except:\n",
    "            print(\"Error:\", row['nyu40id'])"
   ]
  },
  {
   "cell_type": "markdown",
   "metadata": {},
   "source": [
    "#### 1. Test project rtabmap to matterport 3D"
   ]
  },
  {
   "cell_type": "code",
   "execution_count": null,
   "metadata": {},
   "outputs": [],
   "source": []
  },
  {
   "cell_type": "markdown",
   "metadata": {},
   "source": [
    "#### 2. generate rtabmap prediction and transform it "
   ]
  },
  {
   "cell_type": "code",
   "execution_count": null,
   "metadata": {},
   "outputs": [],
   "source": [
    "########## convert gt annotations to batch_gt_map_cls ############\n",
    "from dataset.mp3d.utils import read_house_file, getOBB\n",
    "\n",
    "gt_map_cls = []\n",
    "\n",
    "house_file = os.path.join(mp3d_scene_dir, f\"{mp3d_scene_name}.house\")\n",
    "house_dict, parse_dict = read_house_file(house_file)\n",
    "# C category_index category_mapping_index category_mapping_name mpcat40_index mpcat40_name 0 0 0 0 0\n",
    "mapping_rawcat_to_mpcat40 = {}\n",
    "for cat_dict in house_dict['C']:\n",
    "    mapping_rawcat_to_mpcat40[int(cat_dict['category_index'])] = \\\n",
    "        int(cat_dict['mpcat40_index'])\n",
    "\n",
    "# O object_index region_index category_index px py pz  a0x a0y a0z  a1x a1y a1z  r0 r1 r2 0 0 0 0 0 0 0 0 \n",
    "for object_dict in house_dict['O']: \n",
    "\n",
    "    raw_label = int(object_dict['category_index'])\n",
    "    if raw_label == -1:\n",
    "        nyu40_label = 0\n",
    "    else:\n",
    "        mpcat40_label = mapping_rawcat_to_mpcat40[raw_label]\n",
    "        nyu40_label = mapping_mpcat40id_to_nyu40id[mpcat40_label]\n",
    "    \n",
    "    center, boxRotation, radii = getOBB(object_dict)\n",
    "    o3d_obb = o3d.geometry.OrientedBoundingBox(center, boxRotation, 2*radii)\n",
    "    o3d_aabb = o3d_obb.get_axis_aligned_bounding_box()\n",
    "    center = o3d_aabb.get_center()\n",
    "    size = o3d_aabb.get_extent()\n",
    "    aabb = get_3d_box(size, 0, center)\n",
    "\n",
    "    gt_map_cls.append((\n",
    "        nyu40_label,\n",
    "        aabb\n",
    "    ))\n",
    "batch_gt_map_cls = [gt_map_cls]"
   ]
  }
 ],
 "metadata": {
  "interpreter": {
   "hash": "bf3f3c9851ea4c110819ad8bbc770b2ddb7a74ab85751caf3b564f6414375707"
  },
  "kernelspec": {
   "display_name": "Python 3.8.12 64-bit ('habitat_nav': conda)",
   "language": "python",
   "name": "python3"
  },
  "language_info": {
   "codemirror_mode": {
    "name": "ipython",
    "version": 3
   },
   "file_extension": ".py",
   "mimetype": "text/x-python",
   "name": "python",
   "nbconvert_exporter": "python",
   "pygments_lexer": "ipython3",
   "version": "3.8.12"
  },
  "orig_nbformat": 4
 },
 "nbformat": 4,
 "nbformat_minor": 2
}
